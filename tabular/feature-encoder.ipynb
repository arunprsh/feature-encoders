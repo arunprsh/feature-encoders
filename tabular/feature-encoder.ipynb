{
 "cells": [
  {
   "cell_type": "markdown",
   "id": "f92603a6-ff60-4784-9bdd-6fd5f401fd9c",
   "metadata": {
    "tags": []
   },
   "source": [
    "#### Prerequisites"
   ]
  },
  {
   "cell_type": "code",
   "execution_count": 2,
   "id": "5ca57922-a1fb-4f2b-aac7-05191658f4b8",
   "metadata": {
    "tags": []
   },
   "outputs": [],
   "source": [
    "%%capture\n",
    "\n",
    "!pip install joblib"
   ]
  },
  {
   "cell_type": "markdown",
   "id": "442c2ac6-63cb-4e27-a706-e963d0901646",
   "metadata": {
    "tags": []
   },
   "source": [
    "### Imports "
   ]
  },
  {
   "cell_type": "code",
   "execution_count": 3,
   "id": "5902378b-4f4b-4fa8-a8c7-2e100d204756",
   "metadata": {
    "tags": []
   },
   "outputs": [],
   "source": [
    "from sklearn.preprocessing import FunctionTransformer\n",
    "from sklearn.preprocessing import OrdinalEncoder\n",
    "from sklearn.preprocessing import OneHotEncoder\n",
    "from sklearn.preprocessing import MinMaxScaler\n",
    "from datetime import datetime\n",
    "from itertools import chain\n",
    "import pandas as pd\n",
    "import numpy as np\n",
    "import sklearn\n",
    "import logging\n",
    "import joblib\n",
    "import os"
   ]
  },
  {
   "cell_type": "markdown",
   "id": "19dca7bc-41cf-410b-a8aa-7f351643afb4",
   "metadata": {},
   "source": [
    "#### Setup logging"
   ]
  },
  {
   "cell_type": "code",
   "execution_count": 4,
   "id": "e5c1fbfa-0349-4611-a057-fffe8c35e741",
   "metadata": {
    "tags": []
   },
   "outputs": [],
   "source": [
    "logger = logging.getLogger('sagemaker')\n",
    "logger.setLevel(logging.DEBUG)\n",
    "logger.addHandler(logging.StreamHandler())"
   ]
  },
  {
   "cell_type": "code",
   "execution_count": 5,
   "id": "938ee623-d5bf-4c11-9bf5-25bc7e86b014",
   "metadata": {
    "tags": []
   },
   "outputs": [
    {
     "name": "stderr",
     "output_type": "stream",
     "text": [
      "Using Sklearn: 0.22.1\n",
      "Using Joblib: 0.14.1\n",
      "Using Pandas: 1.3.5\n",
      "Using Numpy: 1.21.6\n"
     ]
    }
   ],
   "source": [
    "logger.info(f'Using Sklearn: {sklearn.__version__}')\n",
    "logger.info(f'Using Joblib: {joblib.__version__}')\n",
    "logger.info(f'Using Pandas: {pd.__version__}')\n",
    "logger.info(f'Using Numpy: {np.__version__}')"
   ]
  },
  {
   "cell_type": "markdown",
   "id": "52a48e4e-88a4-400d-8ebc-a91e88b52960",
   "metadata": {},
   "source": [
    "### Feature transforms "
   ]
  },
  {
   "cell_type": "markdown",
   "id": "e4934759-bdcd-4ba9-a9d4-a8a2c10040e2",
   "metadata": {
    "tags": []
   },
   "source": [
    "#### Read data"
   ]
  },
  {
   "cell_type": "code",
   "execution_count": 6,
   "id": "76084cf5-c728-495e-b6cb-72b19477629e",
   "metadata": {
    "tags": []
   },
   "outputs": [
    {
     "data": {
      "text/html": [
       "<div>\n",
       "<style scoped>\n",
       "    .dataframe tbody tr th:only-of-type {\n",
       "        vertical-align: middle;\n",
       "    }\n",
       "\n",
       "    .dataframe tbody tr th {\n",
       "        vertical-align: top;\n",
       "    }\n",
       "\n",
       "    .dataframe thead th {\n",
       "        text-align: right;\n",
       "    }\n",
       "</style>\n",
       "<table border=\"1\" class=\"dataframe\">\n",
       "  <thead>\n",
       "    <tr style=\"text-align: right;\">\n",
       "      <th></th>\n",
       "      <th>active_since</th>\n",
       "      <th>total_purchases</th>\n",
       "      <th>total_reviews</th>\n",
       "      <th>purchases_last_60_days</th>\n",
       "      <th>reviews_last_60_days</th>\n",
       "      <th>country</th>\n",
       "      <th>age_group</th>\n",
       "    </tr>\n",
       "  </thead>\n",
       "  <tbody>\n",
       "    <tr>\n",
       "      <th>0</th>\n",
       "      <td>11-02-2015</td>\n",
       "      <td>35</td>\n",
       "      <td>3</td>\n",
       "      <td>3</td>\n",
       "      <td>1</td>\n",
       "      <td>india</td>\n",
       "      <td>18-24</td>\n",
       "    </tr>\n",
       "    <tr>\n",
       "      <th>1</th>\n",
       "      <td>04-23-2011</td>\n",
       "      <td>47</td>\n",
       "      <td>23</td>\n",
       "      <td>2</td>\n",
       "      <td>0</td>\n",
       "      <td>portugal</td>\n",
       "      <td>65+</td>\n",
       "    </tr>\n",
       "    <tr>\n",
       "      <th>2</th>\n",
       "      <td>01-13-2014</td>\n",
       "      <td>34</td>\n",
       "      <td>2</td>\n",
       "      <td>1</td>\n",
       "      <td>0</td>\n",
       "      <td>usa</td>\n",
       "      <td>35-44</td>\n",
       "    </tr>\n",
       "    <tr>\n",
       "      <th>3</th>\n",
       "      <td>12-16-2022</td>\n",
       "      <td>2</td>\n",
       "      <td>72</td>\n",
       "      <td>1</td>\n",
       "      <td>67</td>\n",
       "      <td>china</td>\n",
       "      <td>55-64</td>\n",
       "    </tr>\n",
       "    <tr>\n",
       "      <th>4</th>\n",
       "      <td>04-04-2022</td>\n",
       "      <td>10</td>\n",
       "      <td>34</td>\n",
       "      <td>10</td>\n",
       "      <td>32</td>\n",
       "      <td>usa</td>\n",
       "      <td>25-34</td>\n",
       "    </tr>\n",
       "    <tr>\n",
       "      <th>5</th>\n",
       "      <td>10-19-2021</td>\n",
       "      <td>345</td>\n",
       "      <td>24</td>\n",
       "      <td>82</td>\n",
       "      <td>14</td>\n",
       "      <td>usa</td>\n",
       "      <td>35-44</td>\n",
       "    </tr>\n",
       "    <tr>\n",
       "      <th>6</th>\n",
       "      <td>11-04-2019</td>\n",
       "      <td>32</td>\n",
       "      <td>2</td>\n",
       "      <td>2</td>\n",
       "      <td>1</td>\n",
       "      <td>canada</td>\n",
       "      <td>45-54</td>\n",
       "    </tr>\n",
       "    <tr>\n",
       "      <th>7</th>\n",
       "      <td>03-08-2020</td>\n",
       "      <td>34</td>\n",
       "      <td>23</td>\n",
       "      <td>1</td>\n",
       "      <td>1</td>\n",
       "      <td>canada</td>\n",
       "      <td>18-24</td>\n",
       "    </tr>\n",
       "    <tr>\n",
       "      <th>8</th>\n",
       "      <td>04-03-2019</td>\n",
       "      <td>234</td>\n",
       "      <td>24</td>\n",
       "      <td>2</td>\n",
       "      <td>5</td>\n",
       "      <td>spain</td>\n",
       "      <td>25-34</td>\n",
       "    </tr>\n",
       "    <tr>\n",
       "      <th>9</th>\n",
       "      <td>09-04-2022</td>\n",
       "      <td>24</td>\n",
       "      <td>45</td>\n",
       "      <td>2</td>\n",
       "      <td>10</td>\n",
       "      <td>belgium</td>\n",
       "      <td>18-24</td>\n",
       "    </tr>\n",
       "  </tbody>\n",
       "</table>\n",
       "</div>"
      ],
      "text/plain": [
       "  active_since  total_purchases  total_reviews  purchases_last_60_days  \\\n",
       "0   11-02-2015               35              3                       3   \n",
       "1   04-23-2011               47             23                       2   \n",
       "2   01-13-2014               34              2                       1   \n",
       "3   12-16-2022                2             72                       1   \n",
       "4   04-04-2022               10             34                      10   \n",
       "5   10-19-2021              345             24                      82   \n",
       "6   11-04-2019               32              2                       2   \n",
       "7   03-08-2020               34             23                       1   \n",
       "8   04-03-2019              234             24                       2   \n",
       "9   09-04-2022               24             45                       2   \n",
       "\n",
       "   reviews_last_60_days   country age_group  \n",
       "0                     1     india     18-24  \n",
       "1                     0  portugal       65+  \n",
       "2                     0       usa     35-44  \n",
       "3                    67     china     55-64  \n",
       "4                    32       usa     25-34  \n",
       "5                    14       usa     35-44  \n",
       "6                     1    canada     45-54  \n",
       "7                     1    canada     18-24  \n",
       "8                     5     spain     25-34  \n",
       "9                    10   belgium     18-24  "
      ]
     },
     "execution_count": 6,
     "metadata": {},
     "output_type": "execute_result"
    }
   ],
   "source": [
    "df = pd.read_csv('./data/profile-info.csv')\n",
    "df"
   ]
  },
  {
   "cell_type": "markdown",
   "id": "c17d2e08-853e-4a1f-9451-ea1501b07e6e",
   "metadata": {},
   "source": [
    "#### Create custom FunctionTransformer to encode `active_since` feature"
   ]
  },
  {
   "cell_type": "code",
   "execution_count": 7,
   "id": "db48abfb-9079-4141-8dcc-512bcf97fad7",
   "metadata": {
    "tags": []
   },
   "outputs": [],
   "source": [
    "def days_since(date_str):\n",
    "    date = datetime.strptime(date_str, '%m-%d-%Y')\n",
    "    now = datetime.now()\n",
    "    return (now - date).days"
   ]
  },
  {
   "cell_type": "code",
   "execution_count": 8,
   "id": "519a8933-874d-40b6-b647-c80b5e85059e",
   "metadata": {
    "tags": []
   },
   "outputs": [],
   "source": [
    "date_transformer = FunctionTransformer(days_since, validate=False)"
   ]
  },
  {
   "cell_type": "markdown",
   "id": "366b50a9-5ffa-4c8a-b0cb-647ca68e19d1",
   "metadata": {},
   "source": [
    "##### Test FunctionTransformer"
   ]
  },
  {
   "cell_type": "code",
   "execution_count": 9,
   "id": "f5d88999-2d25-48ab-b867-bc974ae48631",
   "metadata": {
    "tags": []
   },
   "outputs": [
    {
     "data": {
      "text/plain": [
       "287"
      ]
     },
     "execution_count": 9,
     "metadata": {},
     "output_type": "execute_result"
    }
   ],
   "source": [
    "test_date = '03-03-2022'\n",
    "encoded_data = date_transformer.transform(test_date)\n",
    "encoded_data"
   ]
  },
  {
   "cell_type": "markdown",
   "id": "d516a1d7-b927-47af-a4fd-c8f9645e3458",
   "metadata": {},
   "source": [
    "#### Create OrdinalEncoder to encode `age_groups` feature"
   ]
  },
  {
   "cell_type": "code",
   "execution_count": 10,
   "id": "61a7fdba-3fdf-4456-beb1-3c62eaae3369",
   "metadata": {
    "tags": []
   },
   "outputs": [],
   "source": [
    "age_groups = [['18-24'], ['25-34'], ['35-44'], ['45-54'], ['55-64'], ['65+']]\n",
    "age_group_encoder = OrdinalEncoder().fit(df[['age_group']])"
   ]
  },
  {
   "cell_type": "markdown",
   "id": "934b76b4-ffc2-4ea4-9c9a-bb339b67b458",
   "metadata": {},
   "source": [
    "##### Test OrdinalEncoder"
   ]
  },
  {
   "cell_type": "code",
   "execution_count": 11,
   "id": "058a48f2-16f4-4651-83a7-8038702c171f",
   "metadata": {
    "tags": []
   },
   "outputs": [
    {
     "data": {
      "text/plain": [
       "array([[2.]])"
      ]
     },
     "execution_count": 11,
     "metadata": {},
     "output_type": "execute_result"
    }
   ],
   "source": [
    "test_age_group = ['35-44']\n",
    "encoded_data = age_group_encoder.transform([test_age_group])\n",
    "encoded_data"
   ]
  },
  {
   "cell_type": "markdown",
   "id": "fa73a2fd-79dd-44de-90be-8393d65bd3ab",
   "metadata": {},
   "source": [
    "#### Encode numeric features using MinMaxScaler"
   ]
  },
  {
   "cell_type": "code",
   "execution_count": 12,
   "id": "e67b129f-95b6-4504-a199-e2e9764305be",
   "metadata": {
    "tags": []
   },
   "outputs": [
    {
     "data": {
      "text/plain": [
       "MinMaxScaler(copy=True, feature_range=(0, 1))"
      ]
     },
     "execution_count": 12,
     "metadata": {},
     "output_type": "execute_result"
    }
   ],
   "source": [
    "minmax_scaler_total_purchases = MinMaxScaler()\n",
    "minmax_scaler_total_purchases.fit(df[['total_purchases']])"
   ]
  },
  {
   "cell_type": "markdown",
   "id": "fa9a1c62-8956-4a83-aecd-3d093f411e36",
   "metadata": {},
   "source": [
    "##### Test MinMaxScaler"
   ]
  },
  {
   "cell_type": "code",
   "execution_count": 13,
   "id": "b4b7c102-a7d1-4206-be64-c30fa615e2ff",
   "metadata": {
    "tags": []
   },
   "outputs": [
    {
     "data": {
      "text/plain": [
       "array([[0.09329446]])"
      ]
     },
     "execution_count": 13,
     "metadata": {},
     "output_type": "execute_result"
    }
   ],
   "source": [
    "test_total_purchases = [34]\n",
    "encoded_data = minmax_scaler_total_purchases.transform([test_total_purchases])\n",
    "encoded_data"
   ]
  },
  {
   "cell_type": "markdown",
   "id": "555b0c42-3adb-4206-ad4f-01c09102a991",
   "metadata": {},
   "source": [
    "##### Apply MinMaxScaler on remaining numeric cols"
   ]
  },
  {
   "cell_type": "code",
   "execution_count": 14,
   "id": "5e3c94de-d010-4190-87a7-da5cba8a199b",
   "metadata": {},
   "outputs": [
    {
     "data": {
      "text/plain": [
       "MinMaxScaler(copy=True, feature_range=(0, 1))"
      ]
     },
     "execution_count": 14,
     "metadata": {},
     "output_type": "execute_result"
    }
   ],
   "source": [
    "minmax_scaler_total_reviews = MinMaxScaler()\n",
    "minmax_scaler_total_reviews.fit(df[['total_reviews']])"
   ]
  },
  {
   "cell_type": "code",
   "execution_count": 15,
   "id": "a5ec0a3b-4383-4049-9cb0-3a11c845003b",
   "metadata": {},
   "outputs": [
    {
     "data": {
      "text/plain": [
       "MinMaxScaler(copy=True, feature_range=(0, 1))"
      ]
     },
     "execution_count": 15,
     "metadata": {},
     "output_type": "execute_result"
    }
   ],
   "source": [
    "minmax_scaler_purchases_last_60_days = MinMaxScaler()\n",
    "minmax_scaler_purchases_last_60_days.fit(df[['purchases_last_60_days']])"
   ]
  },
  {
   "cell_type": "code",
   "execution_count": 16,
   "id": "7656f678-5bd4-4ea0-b7f9-c2614a32bba5",
   "metadata": {},
   "outputs": [
    {
     "data": {
      "text/plain": [
       "MinMaxScaler(copy=True, feature_range=(0, 1))"
      ]
     },
     "execution_count": 16,
     "metadata": {},
     "output_type": "execute_result"
    }
   ],
   "source": [
    "minmax_scaler_reviews_last_60_days = MinMaxScaler()\n",
    "minmax_scaler_reviews_last_60_days.fit(df[['reviews_last_60_days']])"
   ]
  },
  {
   "cell_type": "markdown",
   "id": "7c1f1732-a0ab-4c5f-b6b6-dc2fc7a48a5a",
   "metadata": {},
   "source": [
    "#### Encode feature `country` using OneHotEncoder"
   ]
  },
  {
   "cell_type": "code",
   "execution_count": 17,
   "id": "9c27ab6f-7053-48a2-a6ca-e8debe1bf6ae",
   "metadata": {
    "tags": []
   },
   "outputs": [
    {
     "data": {
      "text/plain": [
       "OneHotEncoder(categories='auto', drop=None, dtype=<class 'numpy.float64'>,\n",
       "              handle_unknown='error', sparse=True)"
      ]
     },
     "execution_count": 17,
     "metadata": {},
     "output_type": "execute_result"
    }
   ],
   "source": [
    "onehot_encoder = OneHotEncoder(sparse=True)\n",
    "onehot_encoder.fit(df[['country']])"
   ]
  },
  {
   "cell_type": "markdown",
   "id": "ff5dfd4f-0e9f-43d8-9c21-7862bd03490f",
   "metadata": {},
   "source": [
    "##### Test OneHotEncoder"
   ]
  },
  {
   "cell_type": "code",
   "execution_count": 18,
   "id": "1ed7c326-623e-44ff-a242-8a999069d4d1",
   "metadata": {
    "tags": []
   },
   "outputs": [
    {
     "data": {
      "text/plain": [
       "[0.0, 0.0, 0.0, 1.0, 0.0, 0.0, 0.0]"
      ]
     },
     "execution_count": 18,
     "metadata": {},
     "output_type": "execute_result"
    }
   ],
   "source": [
    "test_country = ['india']\n",
    "encoded_data = onehot_encoder.transform([test_country])\n",
    "encoded_data = list(encoded_data.toarray()[0])\n",
    "encoded_data"
   ]
  },
  {
   "cell_type": "markdown",
   "id": "009c79a2-6479-4213-bede-bf86b66d06d5",
   "metadata": {},
   "source": [
    "#### Serialize individual encoders as `.joblib` files"
   ]
  },
  {
   "cell_type": "code",
   "execution_count": 19,
   "id": "8d8f8aac-29ea-492c-86c5-7afa775b9bab",
   "metadata": {
    "tags": []
   },
   "outputs": [
    {
     "data": {
      "text/plain": [
       "['./data/onehot_encoder.joblib']"
      ]
     },
     "execution_count": 19,
     "metadata": {},
     "output_type": "execute_result"
    }
   ],
   "source": [
    "joblib.dump(date_transformer, './data/date_transformer.joblib')\n",
    "joblib.dump(age_group_encoder, './data/age_group_encoder.joblib')\n",
    "joblib.dump(minmax_scaler_total_purchases, './data/minmax_scaler_total_purchases.joblib')\n",
    "joblib.dump(minmax_scaler_total_reviews, './data/minmax_scaler_total_reviews.joblib')\n",
    "joblib.dump(minmax_scaler_purchases_last_60_days, './data/minmax_scaler_purchases_last_60_days.joblib')\n",
    "joblib.dump(minmax_scaler_reviews_last_60_days, './data/minmax_scaler_reviews_last_60_days.joblib')\n",
    "joblib.dump(onehot_encoder, './data/onehot_encoder.joblib')"
   ]
  },
  {
   "cell_type": "markdown",
   "id": "57c91fb8-7bf3-4125-8390-0d6973d8abec",
   "metadata": {},
   "source": [
    "### Feature Encoder\n",
    "\n",
    "* The feature encoder below encapsulates all the individual encoders created above into a callable interface.\n",
    "* It transforms incoming raw payload into a feature vector that is either consumable by a machine learning model or a service."
   ]
  },
  {
   "cell_type": "code",
   "execution_count": 20,
   "id": "82d2a364-9e84-440d-a16b-5fd075678d26",
   "metadata": {},
   "outputs": [],
   "source": [
    "DATA_PATH = './data'"
   ]
  },
  {
   "cell_type": "code",
   "execution_count": 21,
   "id": "14370992-2289-4c5f-9b5e-8deb13bda442",
   "metadata": {
    "tags": []
   },
   "outputs": [],
   "source": [
    "class FeatureEncoder:\n",
    "    \n",
    "    date_transformer = None\n",
    "    minmax_scaler_total_purchases = None\n",
    "    minmax_scaler_total_reviews = None\n",
    "    minmax_scaler_purchases_last_60_days = None\n",
    "    minmax_scaler_reviews_last_60_days = None\n",
    "    onehot_encoder = None\n",
    "    age_group_encoder = None\n",
    "    \n",
    "    MAX_ACTIVE_DAYS = 10024\n",
    "    MAX_AGE_GROUP = 5\n",
    "    \n",
    "    @classmethod\n",
    "    def load_date_transformer(cls):\n",
    "        if cls.date_transformer is None:\n",
    "            with open(os.path.join(DATA_PATH, 'date_transformer.joblib'), 'rb') as file_:\n",
    "                cls.date_transformer = joblib.load(file_)\n",
    "        return cls.date_transformer\n",
    "    \n",
    "    @classmethod\n",
    "    def load_minmax_scaler_total_purchases(cls):\n",
    "        if cls.minmax_scaler_total_purchases is None:\n",
    "            with open(os.path.join(DATA_PATH, 'minmax_scaler_total_purchases.joblib'), 'rb') as file_:\n",
    "                cls.minmax_scaler_total_purchases = joblib.load(file_)\n",
    "        return cls.minmax_scaler_total_purchases\n",
    "    \n",
    "    @classmethod\n",
    "    def load_minmax_scaler_total_reviews(cls):\n",
    "        if cls.minmax_scaler_total_reviews is None:\n",
    "            with open(os.path.join(DATA_PATH, 'minmax_scaler_total_reviews.joblib'), 'rb') as file_:\n",
    "                cls.minmax_scaler_total_reviews = joblib.load(file_)\n",
    "        return cls.minmax_scaler_total_reviews\n",
    "    \n",
    "    @classmethod\n",
    "    def load_minmax_scaler_purchases_last_60_days(cls):\n",
    "        if cls.minmax_scaler_purchases_last_60_days is None:\n",
    "            with open(os.path.join(DATA_PATH, 'minmax_scaler_purchases_last_60_days.joblib'), 'rb') as file_:\n",
    "                cls.minmax_scaler_purchases_last_60_days = joblib.load(file_)\n",
    "        return cls.minmax_scaler_purchases_last_60_days\n",
    "    \n",
    "    @classmethod\n",
    "    def load_minmax_scaler_reviews_last_60_days(cls):\n",
    "        if cls.minmax_scaler_reviews_last_60_days is None:\n",
    "            with open(os.path.join(DATA_PATH, 'minmax_scaler_reviews_last_60_days.joblib'), 'rb') as file_:\n",
    "                cls.minmax_scaler_reviews_last_60_days = joblib.load(file_)\n",
    "        return cls.minmax_scaler_reviews_last_60_days\n",
    "    \n",
    "    @classmethod\n",
    "    def load_age_group_encoder(cls):\n",
    "        if cls.age_group_encoder is None:\n",
    "            with open(os.path.join(DATA_PATH, 'age_group_encoder.joblib'), 'rb') as file_:\n",
    "                cls.age_group_encoder = joblib.load(file_)\n",
    "        return cls.age_group_encoder\n",
    "    \n",
    "    @classmethod\n",
    "    def load_onehot_encoder(cls):\n",
    "        if cls.onehot_encoder is None:\n",
    "            with open(os.path.join(DATA_PATH, 'onehot_encoder.joblib'), 'rb') as file_:\n",
    "                cls.onehot_encoder = joblib.load(file_)\n",
    "        return cls.onehot_encoder\n",
    "    \n",
    "    @classmethod\n",
    "    def encode_date(cls, feature):\n",
    "        encoder = cls.load_date_transformer()\n",
    "        return encoder.transform(feature)/cls.MAX_ACTIVE_DAYS\n",
    "    \n",
    "    @classmethod\n",
    "    def encode_total_purchases(cls, feature):\n",
    "        encoder = cls.load_minmax_scaler_total_purchases()\n",
    "        return encoder.transform([[feature]])[0][0]\n",
    "    \n",
    "    @classmethod\n",
    "    def encode_total_reviews(cls, feature):\n",
    "        encoder = cls.load_minmax_scaler_total_reviews()\n",
    "        return encoder.transform([[feature]])[0][0]\n",
    "    \n",
    "    @classmethod\n",
    "    def encode_purchases_last_60_days(cls, feature):\n",
    "        encoder = cls.load_minmax_scaler_purchases_last_60_days()\n",
    "        return encoder.transform([[feature]])[0][0]\n",
    "    \n",
    "    @classmethod\n",
    "    def encode_reviews_last_60_days(cls, feature):\n",
    "        encoder = cls.load_minmax_scaler_reviews_last_60_days()\n",
    "        return encoder.transform([[feature]])[0][0]\n",
    "    \n",
    "    @classmethod\n",
    "    def encode_country(cls, feature):\n",
    "        encoder = cls.load_onehot_encoder()\n",
    "        return list(encoder.transform([[feature]]).toarray()[0])\n",
    "    \n",
    "    @classmethod\n",
    "    def encode_age_group(cls, feature):\n",
    "        encoder = cls.load_age_group_encoder()\n",
    "        return encoder.transform([[feature]])[0][0]/cls.MAX_AGE_GROUP\n",
    "    \n",
    "    @classmethod\n",
    "    def encode(cls, features):\n",
    "        feature_vector = []\n",
    "        active_since, total_purchases, total_reviews, purchases_last_60_days, reviews_last_60_days, country, age_group = features.split(',')\n",
    "        feature_vector.append(cls.encode_date(active_since))\n",
    "        feature_vector.append(cls.encode_total_purchases(total_purchases))\n",
    "        feature_vector.append(cls.encode_total_reviews(total_reviews))\n",
    "        feature_vector.append(cls.encode_purchases_last_60_days(purchases_last_60_days))\n",
    "        feature_vector.append(cls.encode_reviews_last_60_days(reviews_last_60_days))\n",
    "        feature_vector.append(cls.encode_country(country))\n",
    "        feature_vector.append(cls.encode_age_group(age_group))\n",
    "        return feature_vector"
   ]
  },
  {
   "cell_type": "code",
   "execution_count": 22,
   "id": "77daf70b-8580-42b4-a36c-be1938ef85fc",
   "metadata": {
    "tags": []
   },
   "outputs": [],
   "source": [
    "def get_encoded_data(features):\n",
    "    encoded_data = FeatureEncoder.encode(features)\n",
    "    encoded_data = np.hstack(encoded_data).tolist()\n",
    "    return encoded_data"
   ]
  },
  {
   "cell_type": "markdown",
   "id": "9b32b8ef-fd42-4865-af36-17c6bf1d0ade",
   "metadata": {},
   "source": [
    "#### Test Feature Encoder"
   ]
  },
  {
   "cell_type": "code",
   "execution_count": 23,
   "id": "8aa9b71b-60fb-479c-bdaf-9d77462170e5",
   "metadata": {},
   "outputs": [],
   "source": [
    "payload = '10-19-2021,145,24,22,14,usa,65+'"
   ]
  },
  {
   "cell_type": "code",
   "execution_count": 24,
   "id": "eeb345c6-cbe9-4f22-a9f5-d72a93d29b99",
   "metadata": {
    "tags": []
   },
   "outputs": [
    {
     "data": {
      "text/plain": [
       "[0.04209896249002394,\n",
       " 0.41690962099125367,\n",
       " 0.3142857142857143,\n",
       " 0.25925925925925924,\n",
       " 0.208955223880597,\n",
       " 0.0,\n",
       " 0.0,\n",
       " 0.0,\n",
       " 0.0,\n",
       " 0.0,\n",
       " 0.0,\n",
       " 1.0,\n",
       " 1.0]"
      ]
     },
     "execution_count": 24,
     "metadata": {},
     "output_type": "execute_result"
    }
   ],
   "source": [
    "response = get_encoded_data(payload)\n",
    "response"
   ]
  }
 ],
 "metadata": {
  "forced_instance_type": "ml.t3.medium",
  "forced_lcc_arn": "",
  "instance_type": "ml.t3.medium",
  "kernelspec": {
   "display_name": "Python 3 (Data Science)",
   "language": "python",
   "name": "python3__SAGEMAKER_INTERNAL__arn:aws:sagemaker:us-east-1:081325390199:image/datascience-1.0"
  },
  "language_info": {
   "codemirror_mode": {
    "name": "ipython",
    "version": 3
   },
   "file_extension": ".py",
   "mimetype": "text/x-python",
   "name": "python",
   "nbconvert_exporter": "python",
   "pygments_lexer": "ipython3",
   "version": "3.7.10"
  }
 },
 "nbformat": 4,
 "nbformat_minor": 5
}
