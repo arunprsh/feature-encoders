{
 "cells": [
  {
   "cell_type": "markdown",
   "id": "f92603a6-ff60-4784-9bdd-6fd5f401fd9c",
   "metadata": {
    "tags": []
   },
   "source": [
    "#### Prerequisites"
   ]
  },
  {
   "cell_type": "code",
   "execution_count": null,
   "id": "5ca57922-a1fb-4f2b-aac7-05191658f4b8",
   "metadata": {
    "tags": []
   },
   "outputs": [],
   "source": [
    "%%capture\n",
    "\n",
    "!pip install joblib"
   ]
  },
  {
   "cell_type": "markdown",
   "id": "442c2ac6-63cb-4e27-a706-e963d0901646",
   "metadata": {},
   "source": [
    "### Imports "
   ]
  },
  {
   "cell_type": "code",
   "execution_count": 2,
   "id": "5902378b-4f4b-4fa8-a8c7-2e100d204756",
   "metadata": {
    "tags": []
   },
   "outputs": [],
   "source": [
    "from sklearn.preprocessing import FunctionTransformer\n",
    "from sklearn.preprocessing import OrdinalEncoder\n",
    "from sklearn.preprocessing import OneHotEncoder\n",
    "from sklearn.preprocessing import MinMaxScaler\n",
    "from datetime import datetime\n",
    "import pandas as pd\n",
    "import joblib"
   ]
  },
  {
   "cell_type": "markdown",
   "id": "52a48e4e-88a4-400d-8ebc-a91e88b52960",
   "metadata": {},
   "source": [
    "### Feature transforms "
   ]
  },
  {
   "cell_type": "markdown",
   "id": "e4934759-bdcd-4ba9-a9d4-a8a2c10040e2",
   "metadata": {
    "tags": []
   },
   "source": [
    "##### Read data"
   ]
  },
  {
   "cell_type": "code",
   "execution_count": 3,
   "id": "76084cf5-c728-495e-b6cb-72b19477629e",
   "metadata": {
    "tags": []
   },
   "outputs": [
    {
     "data": {
      "text/html": [
       "<div>\n",
       "<style scoped>\n",
       "    .dataframe tbody tr th:only-of-type {\n",
       "        vertical-align: middle;\n",
       "    }\n",
       "\n",
       "    .dataframe tbody tr th {\n",
       "        vertical-align: top;\n",
       "    }\n",
       "\n",
       "    .dataframe thead th {\n",
       "        text-align: right;\n",
       "    }\n",
       "</style>\n",
       "<table border=\"1\" class=\"dataframe\">\n",
       "  <thead>\n",
       "    <tr style=\"text-align: right;\">\n",
       "      <th></th>\n",
       "      <th>active_since</th>\n",
       "      <th>total_purchases</th>\n",
       "      <th>total_reviews</th>\n",
       "      <th>purchases_last_60_days</th>\n",
       "      <th>reviews_last_60_days</th>\n",
       "      <th>country</th>\n",
       "      <th>age_group</th>\n",
       "    </tr>\n",
       "  </thead>\n",
       "  <tbody>\n",
       "    <tr>\n",
       "      <th>0</th>\n",
       "      <td>11-02-2015</td>\n",
       "      <td>35</td>\n",
       "      <td>3</td>\n",
       "      <td>3</td>\n",
       "      <td>1</td>\n",
       "      <td>india</td>\n",
       "      <td>18-24</td>\n",
       "    </tr>\n",
       "    <tr>\n",
       "      <th>1</th>\n",
       "      <td>04-23-2011</td>\n",
       "      <td>47</td>\n",
       "      <td>23</td>\n",
       "      <td>2</td>\n",
       "      <td>0</td>\n",
       "      <td>portugal</td>\n",
       "      <td>65+</td>\n",
       "    </tr>\n",
       "    <tr>\n",
       "      <th>2</th>\n",
       "      <td>01-13-2014</td>\n",
       "      <td>34</td>\n",
       "      <td>2</td>\n",
       "      <td>1</td>\n",
       "      <td>0</td>\n",
       "      <td>usa</td>\n",
       "      <td>35-44</td>\n",
       "    </tr>\n",
       "    <tr>\n",
       "      <th>3</th>\n",
       "      <td>12-16-2022</td>\n",
       "      <td>2</td>\n",
       "      <td>72</td>\n",
       "      <td>1</td>\n",
       "      <td>67</td>\n",
       "      <td>china</td>\n",
       "      <td>55-64</td>\n",
       "    </tr>\n",
       "    <tr>\n",
       "      <th>4</th>\n",
       "      <td>04-04-2022</td>\n",
       "      <td>10</td>\n",
       "      <td>34</td>\n",
       "      <td>10</td>\n",
       "      <td>32</td>\n",
       "      <td>usa</td>\n",
       "      <td>25-34</td>\n",
       "    </tr>\n",
       "    <tr>\n",
       "      <th>5</th>\n",
       "      <td>10-19-2021</td>\n",
       "      <td>345</td>\n",
       "      <td>24</td>\n",
       "      <td>82</td>\n",
       "      <td>14</td>\n",
       "      <td>usa</td>\n",
       "      <td>35-44</td>\n",
       "    </tr>\n",
       "    <tr>\n",
       "      <th>6</th>\n",
       "      <td>11-04-2019</td>\n",
       "      <td>32</td>\n",
       "      <td>2</td>\n",
       "      <td>2</td>\n",
       "      <td>1</td>\n",
       "      <td>canada</td>\n",
       "      <td>45-54</td>\n",
       "    </tr>\n",
       "    <tr>\n",
       "      <th>7</th>\n",
       "      <td>03-08-2020</td>\n",
       "      <td>34</td>\n",
       "      <td>23</td>\n",
       "      <td>1</td>\n",
       "      <td>1</td>\n",
       "      <td>canada</td>\n",
       "      <td>18-24</td>\n",
       "    </tr>\n",
       "    <tr>\n",
       "      <th>8</th>\n",
       "      <td>04-03-2019</td>\n",
       "      <td>234</td>\n",
       "      <td>24</td>\n",
       "      <td>2</td>\n",
       "      <td>5</td>\n",
       "      <td>spain</td>\n",
       "      <td>25-34</td>\n",
       "    </tr>\n",
       "    <tr>\n",
       "      <th>9</th>\n",
       "      <td>09-04-2022</td>\n",
       "      <td>24</td>\n",
       "      <td>45</td>\n",
       "      <td>2</td>\n",
       "      <td>10</td>\n",
       "      <td>belgium</td>\n",
       "      <td>18-24</td>\n",
       "    </tr>\n",
       "  </tbody>\n",
       "</table>\n",
       "</div>"
      ],
      "text/plain": [
       "  active_since  total_purchases  total_reviews  purchases_last_60_days  \\\n",
       "0   11-02-2015               35              3                       3   \n",
       "1   04-23-2011               47             23                       2   \n",
       "2   01-13-2014               34              2                       1   \n",
       "3   12-16-2022                2             72                       1   \n",
       "4   04-04-2022               10             34                      10   \n",
       "5   10-19-2021              345             24                      82   \n",
       "6   11-04-2019               32              2                       2   \n",
       "7   03-08-2020               34             23                       1   \n",
       "8   04-03-2019              234             24                       2   \n",
       "9   09-04-2022               24             45                       2   \n",
       "\n",
       "   reviews_last_60_days   country age_group  \n",
       "0                     1     india     18-24  \n",
       "1                     0  portugal       65+  \n",
       "2                     0       usa     35-44  \n",
       "3                    67     china     55-64  \n",
       "4                    32       usa     25-34  \n",
       "5                    14       usa     35-44  \n",
       "6                     1    canada     45-54  \n",
       "7                     1    canada     18-24  \n",
       "8                     5     spain     25-34  \n",
       "9                    10   belgium     18-24  "
      ]
     },
     "execution_count": 3,
     "metadata": {},
     "output_type": "execute_result"
    }
   ],
   "source": [
    "df = pd.read_csv('./data/profile-info.csv')\n",
    "df"
   ]
  },
  {
   "cell_type": "markdown",
   "id": "c17d2e08-853e-4a1f-9451-ea1501b07e6e",
   "metadata": {},
   "source": [
    "#### Custom date transformer"
   ]
  },
  {
   "cell_type": "code",
   "execution_count": 4,
   "id": "db48abfb-9079-4141-8dcc-512bcf97fad7",
   "metadata": {
    "tags": []
   },
   "outputs": [],
   "source": [
    "def days_since(date_str):\n",
    "    date = datetime.strptime(date_str, '%m-%d-%Y')\n",
    "    now = datetime.now()\n",
    "    return (now - date).days"
   ]
  },
  {
   "cell_type": "code",
   "execution_count": 5,
   "id": "519a8933-874d-40b6-b647-c80b5e85059e",
   "metadata": {
    "tags": []
   },
   "outputs": [],
   "source": [
    "date_transformer = FunctionTransformer(days_since, validate=False)"
   ]
  },
  {
   "cell_type": "code",
   "execution_count": 6,
   "id": "f5d88999-2d25-48ab-b867-bc974ae48631",
   "metadata": {
    "tags": []
   },
   "outputs": [
    {
     "data": {
      "text/plain": [
       "286"
      ]
     },
     "execution_count": 6,
     "metadata": {},
     "output_type": "execute_result"
    }
   ],
   "source": [
    "test_date = '03-03-2022'\n",
    "encoded_data = date_transformer.transform(test_date)\n",
    "encoded_data"
   ]
  },
  {
   "cell_type": "markdown",
   "id": "d516a1d7-b927-47af-a4fd-c8f9645e3458",
   "metadata": {},
   "source": [
    "#### Encode `age_groups` using Ordinal Encoder"
   ]
  },
  {
   "cell_type": "code",
   "execution_count": 7,
   "id": "61a7fdba-3fdf-4456-beb1-3c62eaae3369",
   "metadata": {
    "tags": []
   },
   "outputs": [],
   "source": [
    "age_groups = [['18-24'], ['25-34'], ['35-44'], ['45-54'], ['55-64'], ['65+']]\n",
    "age_group_encoder = OrdinalEncoder().fit(df[['age_group']])"
   ]
  },
  {
   "cell_type": "code",
   "execution_count": 8,
   "id": "058a48f2-16f4-4651-83a7-8038702c171f",
   "metadata": {
    "tags": []
   },
   "outputs": [
    {
     "data": {
      "text/plain": [
       "array([[2.]])"
      ]
     },
     "execution_count": 8,
     "metadata": {},
     "output_type": "execute_result"
    }
   ],
   "source": [
    "test_age_group = ['35-44']\n",
    "encoded_data = age_group_encoder.transform([test_age_group])\n",
    "encoded_data"
   ]
  },
  {
   "cell_type": "markdown",
   "id": "fa73a2fd-79dd-44de-90be-8393d65bd3ab",
   "metadata": {},
   "source": [
    "#### Transform numeric columns using MinMax Scaler"
   ]
  },
  {
   "cell_type": "code",
   "execution_count": 9,
   "id": "e67b129f-95b6-4504-a199-e2e9764305be",
   "metadata": {
    "tags": []
   },
   "outputs": [
    {
     "data": {
      "text/plain": [
       "MinMaxScaler(copy=True, feature_range=(0, 1))"
      ]
     },
     "execution_count": 9,
     "metadata": {},
     "output_type": "execute_result"
    }
   ],
   "source": [
    "minmax_scaler = MinMaxScaler()\n",
    "minmax_scaler.fit(df[['total_purchases']])"
   ]
  },
  {
   "cell_type": "code",
   "execution_count": 10,
   "id": "b4b7c102-a7d1-4206-be64-c30fa615e2ff",
   "metadata": {
    "tags": []
   },
   "outputs": [
    {
     "data": {
      "text/plain": [
       "array([[0.09329446]])"
      ]
     },
     "execution_count": 10,
     "metadata": {},
     "output_type": "execute_result"
    }
   ],
   "source": [
    "test_total_purchases = [34]\n",
    "encoded_data = minmax_scaler.transform([test_total_purchases])\n",
    "encoded_data"
   ]
  },
  {
   "cell_type": "markdown",
   "id": "7c1f1732-a0ab-4c5f-b6b6-dc2fc7a48a5a",
   "metadata": {},
   "source": [
    "#### Transform column `country` using one-hot encoding"
   ]
  },
  {
   "cell_type": "code",
   "execution_count": 11,
   "id": "9c27ab6f-7053-48a2-a6ca-e8debe1bf6ae",
   "metadata": {
    "tags": []
   },
   "outputs": [
    {
     "data": {
      "text/plain": [
       "OneHotEncoder(categories='auto', drop=None, dtype=<class 'numpy.float64'>,\n",
       "              handle_unknown='error', sparse=True)"
      ]
     },
     "execution_count": 11,
     "metadata": {},
     "output_type": "execute_result"
    }
   ],
   "source": [
    "onehot_encoder = OneHotEncoder(sparse=True)\n",
    "onehot_encoder.fit(df[['country']])"
   ]
  },
  {
   "cell_type": "code",
   "execution_count": 12,
   "id": "1ed7c326-623e-44ff-a242-8a999069d4d1",
   "metadata": {
    "tags": []
   },
   "outputs": [
    {
     "data": {
      "text/plain": [
       "[0.0, 0.0, 0.0, 1.0, 0.0, 0.0, 0.0]"
      ]
     },
     "execution_count": 12,
     "metadata": {},
     "output_type": "execute_result"
    }
   ],
   "source": [
    "# Use the fitted encoder to transform new data\n",
    "test_country = ['india']\n",
    "encoded_data = onehot_encoder.transform([test_country])\n",
    "encoded_data = list(encoded_data.toarray()[0])\n",
    "encoded_data"
   ]
  },
  {
   "cell_type": "markdown",
   "id": "009c79a2-6479-4213-bede-bf86b66d06d5",
   "metadata": {},
   "source": [
    "#### Serialize transformers/encoders as .jbl files"
   ]
  },
  {
   "cell_type": "code",
   "execution_count": 13,
   "id": "8d8f8aac-29ea-492c-86c5-7afa775b9bab",
   "metadata": {
    "tags": []
   },
   "outputs": [
    {
     "data": {
      "text/plain": [
       "['./data/date_transformer.joblib']"
      ]
     },
     "execution_count": 13,
     "metadata": {},
     "output_type": "execute_result"
    }
   ],
   "source": [
    "joblib.dump(date_transformer, './data/date_transformer.joblib')"
   ]
  },
  {
   "cell_type": "code",
   "execution_count": 14,
   "id": "a9cda27a-5467-481f-b132-97920cfb4a23",
   "metadata": {
    "tags": []
   },
   "outputs": [
    {
     "data": {
      "text/plain": [
       "['./data/age_group_encoder.joblib']"
      ]
     },
     "execution_count": 14,
     "metadata": {},
     "output_type": "execute_result"
    }
   ],
   "source": [
    "joblib.dump(age_group_encoder, './data/age_group_encoder.joblib')"
   ]
  },
  {
   "cell_type": "code",
   "execution_count": 15,
   "id": "471a401b-b4bb-478a-b429-868dee96a385",
   "metadata": {
    "tags": []
   },
   "outputs": [
    {
     "data": {
      "text/plain": [
       "['./data/minmax_scaler.joblib']"
      ]
     },
     "execution_count": 15,
     "metadata": {},
     "output_type": "execute_result"
    }
   ],
   "source": [
    "joblib.dump(minmax_scaler, './data/minmax_scaler.joblib')"
   ]
  },
  {
   "cell_type": "code",
   "execution_count": 16,
   "id": "ce6a71c3-9e9c-460a-9ff0-424f03b634c2",
   "metadata": {
    "tags": []
   },
   "outputs": [
    {
     "data": {
      "text/plain": [
       "['./data/onehot_encoder.joblib']"
      ]
     },
     "execution_count": 16,
     "metadata": {},
     "output_type": "execute_result"
    }
   ],
   "source": [
    "joblib.dump(onehot_encoder, './data/onehot_encoder.joblib')"
   ]
  },
  {
   "cell_type": "markdown",
   "id": "57c91fb8-7bf3-4125-8390-0d6973d8abec",
   "metadata": {},
   "source": [
    "### Feature Encoder\n",
    "\n",
    "* Bundles all feature transforms into a callable interface for transforming incoming payload "
   ]
  },
  {
   "cell_type": "code",
   "execution_count": 17,
   "id": "dfa61310-a06b-4f4d-8901-73516ca5a722",
   "metadata": {
    "tags": []
   },
   "outputs": [],
   "source": [
    "import joblib\n",
    "import os"
   ]
  },
  {
   "cell_type": "code",
   "execution_count": 18,
   "id": "82d2a364-9e84-440d-a16b-5fd075678d26",
   "metadata": {},
   "outputs": [],
   "source": [
    "DATA_PATH = './data'"
   ]
  },
  {
   "cell_type": "code",
   "execution_count": 35,
   "id": "14370992-2289-4c5f-9b5e-8deb13bda442",
   "metadata": {
    "tags": []
   },
   "outputs": [],
   "source": [
    "class FeatureEncoder:\n",
    "    \n",
    "    date_transformer = None\n",
    "    age_group_encoder = None\n",
    "    minmax_scaler = None\n",
    "    onehot_encoder = None\n",
    "    \n",
    "    @classmethod\n",
    "    def load_date_transformer(cls):\n",
    "        if cls.date_transformer is None:\n",
    "            with open(os.path.join(DATA_PATH, 'date_transformer.joblib'), 'rb') as file_:\n",
    "                cls.date_transformer = joblib.load(file_)\n",
    "        return cls.date_transformer\n",
    "    \n",
    "    @classmethod\n",
    "    def load_age_group_encoder(cls):\n",
    "        if cls.age_group_encoder is None:\n",
    "            with open(os.path.join(DATA_PATH, 'age_group_encoder.joblib'), 'rb') as file_:\n",
    "                cls.age_group_encoder = joblib.load(file_)\n",
    "        return cls.age_group_encoder\n",
    "    \n",
    "    @classmethod\n",
    "    def load_minmax_scaler(cls):\n",
    "        if cls.minmax_scaler is None:\n",
    "            with open(os.path.join(DATA_PATH, 'minmax_scaler.joblib'), 'rb') as file_:\n",
    "                cls.minmax_scaler = joblib.load(file_)\n",
    "        return cls.minmax_scaler\n",
    "    \n",
    "    @classmethod\n",
    "    def load_onehot_encoder(cls):\n",
    "        if cls.onehot_encoder is None:\n",
    "            with open(os.path.join(DATA_PATH, 'onehot_encoder.joblib'), 'rb') as file_:\n",
    "                cls.onehot_encoder = joblib.load(file_)\n",
    "        return cls.onehot_encoder\n",
    "    \n",
    "    \n",
    "    @classmethod\n",
    "    def encode_date(cls, feature):\n",
    "        encoder = cls.load_date_transformer()\n",
    "        return encoder.transform(feature)\n",
    "    \n",
    "    @classmethod\n",
    "    def encode_age_group(cls, feature):\n",
    "        encoder = cls.load_age_group_encoder()\n",
    "        return encoder.transform(feature)\n",
    "    \n",
    "    @classmethod\n",
    "    def encode_numeric_cols(cls, feature):\n",
    "        encoder = cls.load_minmax_scaler()\n",
    "        return encoder.transform(feature)\n",
    "    \n",
    "    @classmethod\n",
    "    def encode_country(cls, feature):\n",
    "        encoder = cls.load_onehot_encoder()\n",
    "        return encoder.transform(feature)\n",
    "    \n",
    "    @classmethod\n",
    "    def encode(cls, features):\n",
    "        feature_vector = []\n",
    "        active_since, total_purchases, total_reviews, purchases_last_60_days, reviews_last_60_days, country, age_group = features.split(',')\n",
    "        feature_vector.append(cls.encode_date(active_since))\n",
    "        feature_vector.append(cls.encode_numeric_cols())\n",
    "        feature_vector.append()\n",
    "        feature_vector.append()\n",
    "        feature_vector.append()\n",
    "        \n",
    "        return feature_vector"
   ]
  },
  {
   "cell_type": "code",
   "execution_count": 36,
   "id": "77daf70b-8580-42b4-a36c-be1938ef85fc",
   "metadata": {
    "tags": []
   },
   "outputs": [],
   "source": [
    "def get_encoded_data(features):\n",
    "    encoded_data = FeatureEncoder().encode(features)\n",
    "    return encoded_data"
   ]
  },
  {
   "cell_type": "markdown",
   "id": "9b32b8ef-fd42-4865-af36-17c6bf1d0ade",
   "metadata": {},
   "source": [
    "#### Test Feature Encoder"
   ]
  },
  {
   "cell_type": "code",
   "execution_count": 37,
   "id": "8aa9b71b-60fb-479c-bdaf-9d77462170e5",
   "metadata": {},
   "outputs": [],
   "source": [
    "payload = '10-19-2021,345,24,82,14,usa,35-44'"
   ]
  },
  {
   "cell_type": "code",
   "execution_count": 38,
   "id": "eeb345c6-cbe9-4f22-a9f5-d72a93d29b99",
   "metadata": {
    "tags": []
   },
   "outputs": [
    {
     "name": "stdout",
     "output_type": "stream",
     "text": [
      "10-19-2021,345,24,82,14,usa,35-44\n"
     ]
    },
    {
     "data": {
      "text/plain": [
       "[421]"
      ]
     },
     "execution_count": 38,
     "metadata": {},
     "output_type": "execute_result"
    }
   ],
   "source": [
    "response = get_encoded_data(payload)\n",
    "response"
   ]
  },
  {
   "cell_type": "code",
   "execution_count": null,
   "id": "0b443546-28f2-4b45-ab90-9a9d76cd4d38",
   "metadata": {},
   "outputs": [],
   "source": []
  },
  {
   "cell_type": "code",
   "execution_count": null,
   "id": "f766f446-06cd-42cf-981a-279e8c724ec1",
   "metadata": {},
   "outputs": [],
   "source": []
  },
  {
   "cell_type": "code",
   "execution_count": null,
   "id": "98756dbb-e2ee-4bd1-aa57-d56b551e6e9f",
   "metadata": {},
   "outputs": [],
   "source": []
  }
 ],
 "metadata": {
  "forced_instance_type": "ml.t3.medium",
  "forced_lcc_arn": "",
  "instance_type": "ml.t3.medium",
  "kernelspec": {
   "display_name": "Python 3 (Data Science)",
   "language": "python",
   "name": "python3__SAGEMAKER_INTERNAL__arn:aws:sagemaker:us-east-1:081325390199:image/datascience-1.0"
  },
  "language_info": {
   "codemirror_mode": {
    "name": "ipython",
    "version": 3
   },
   "file_extension": ".py",
   "mimetype": "text/x-python",
   "name": "python",
   "nbconvert_exporter": "python",
   "pygments_lexer": "ipython3",
   "version": "3.7.10"
  }
 },
 "nbformat": 4,
 "nbformat_minor": 5
}
