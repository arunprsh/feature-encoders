{
 "cells": [
  {
   "cell_type": "markdown",
   "id": "f92603a6-ff60-4784-9bdd-6fd5f401fd9c",
   "metadata": {
    "tags": []
   },
   "source": [
    "### Imports "
   ]
  },
  {
   "cell_type": "code",
   "execution_count": 2,
   "id": "5902378b-4f4b-4fa8-a8c7-2e100d204756",
   "metadata": {
    "tags": []
   },
   "outputs": [],
   "source": [
    "from sklearn.preprocessing import FunctionTransformer\n",
    "from sklearn.preprocessing import OrdinalEncoder\n",
    "from datetime import datetime\n",
    "import pandas as pd"
   ]
  },
  {
   "cell_type": "markdown",
   "id": "52a48e4e-88a4-400d-8ebc-a91e88b52960",
   "metadata": {},
   "source": [
    "### Transforms "
   ]
  },
  {
   "cell_type": "code",
   "execution_count": 3,
   "id": "76084cf5-c728-495e-b6cb-72b19477629e",
   "metadata": {
    "tags": []
   },
   "outputs": [
    {
     "data": {
      "text/html": [
       "<div>\n",
       "<style scoped>\n",
       "    .dataframe tbody tr th:only-of-type {\n",
       "        vertical-align: middle;\n",
       "    }\n",
       "\n",
       "    .dataframe tbody tr th {\n",
       "        vertical-align: top;\n",
       "    }\n",
       "\n",
       "    .dataframe thead th {\n",
       "        text-align: right;\n",
       "    }\n",
       "</style>\n",
       "<table border=\"1\" class=\"dataframe\">\n",
       "  <thead>\n",
       "    <tr style=\"text-align: right;\">\n",
       "      <th></th>\n",
       "      <th>active_since</th>\n",
       "      <th>total_purchases</th>\n",
       "      <th>total_reviews</th>\n",
       "      <th>purchases_last_60_days</th>\n",
       "      <th>reviews_last_60_days</th>\n",
       "      <th>country</th>\n",
       "      <th>age_group</th>\n",
       "    </tr>\n",
       "  </thead>\n",
       "  <tbody>\n",
       "    <tr>\n",
       "      <th>0</th>\n",
       "      <td>11-02-2015</td>\n",
       "      <td>35</td>\n",
       "      <td>3</td>\n",
       "      <td>3</td>\n",
       "      <td>1</td>\n",
       "      <td>india</td>\n",
       "      <td>18-24</td>\n",
       "    </tr>\n",
       "    <tr>\n",
       "      <th>1</th>\n",
       "      <td>04-23-2011</td>\n",
       "      <td>47</td>\n",
       "      <td>23</td>\n",
       "      <td>2</td>\n",
       "      <td>0</td>\n",
       "      <td>portugal</td>\n",
       "      <td>65+</td>\n",
       "    </tr>\n",
       "    <tr>\n",
       "      <th>2</th>\n",
       "      <td>01-13-2014</td>\n",
       "      <td>34</td>\n",
       "      <td>2</td>\n",
       "      <td>1</td>\n",
       "      <td>0</td>\n",
       "      <td>usa</td>\n",
       "      <td>35-44</td>\n",
       "    </tr>\n",
       "    <tr>\n",
       "      <th>3</th>\n",
       "      <td>12-16-2022</td>\n",
       "      <td>2</td>\n",
       "      <td>72</td>\n",
       "      <td>1</td>\n",
       "      <td>67</td>\n",
       "      <td>china</td>\n",
       "      <td>55-64</td>\n",
       "    </tr>\n",
       "    <tr>\n",
       "      <th>4</th>\n",
       "      <td>04-04-2022</td>\n",
       "      <td>10</td>\n",
       "      <td>34</td>\n",
       "      <td>10</td>\n",
       "      <td>32</td>\n",
       "      <td>usa</td>\n",
       "      <td>25-34</td>\n",
       "    </tr>\n",
       "    <tr>\n",
       "      <th>5</th>\n",
       "      <td>10-19-2021</td>\n",
       "      <td>345</td>\n",
       "      <td>24</td>\n",
       "      <td>82</td>\n",
       "      <td>14</td>\n",
       "      <td>usa</td>\n",
       "      <td>35-44</td>\n",
       "    </tr>\n",
       "    <tr>\n",
       "      <th>6</th>\n",
       "      <td>11-04-2019</td>\n",
       "      <td>32</td>\n",
       "      <td>2</td>\n",
       "      <td>2</td>\n",
       "      <td>1</td>\n",
       "      <td>canada</td>\n",
       "      <td>45-54</td>\n",
       "    </tr>\n",
       "    <tr>\n",
       "      <th>7</th>\n",
       "      <td>03-08-2020</td>\n",
       "      <td>34</td>\n",
       "      <td>23</td>\n",
       "      <td>1</td>\n",
       "      <td>1</td>\n",
       "      <td>canada</td>\n",
       "      <td>18-24</td>\n",
       "    </tr>\n",
       "    <tr>\n",
       "      <th>8</th>\n",
       "      <td>04-03-2019</td>\n",
       "      <td>234</td>\n",
       "      <td>24</td>\n",
       "      <td>2</td>\n",
       "      <td>5</td>\n",
       "      <td>spain</td>\n",
       "      <td>25-34</td>\n",
       "    </tr>\n",
       "    <tr>\n",
       "      <th>9</th>\n",
       "      <td>09-04-2022</td>\n",
       "      <td>24</td>\n",
       "      <td>45</td>\n",
       "      <td>2</td>\n",
       "      <td>10</td>\n",
       "      <td>belgium</td>\n",
       "      <td>18-24</td>\n",
       "    </tr>\n",
       "  </tbody>\n",
       "</table>\n",
       "</div>"
      ],
      "text/plain": [
       "  active_since  total_purchases  total_reviews  purchases_last_60_days  \\\n",
       "0   11-02-2015               35              3                       3   \n",
       "1   04-23-2011               47             23                       2   \n",
       "2   01-13-2014               34              2                       1   \n",
       "3   12-16-2022                2             72                       1   \n",
       "4   04-04-2022               10             34                      10   \n",
       "5   10-19-2021              345             24                      82   \n",
       "6   11-04-2019               32              2                       2   \n",
       "7   03-08-2020               34             23                       1   \n",
       "8   04-03-2019              234             24                       2   \n",
       "9   09-04-2022               24             45                       2   \n",
       "\n",
       "   reviews_last_60_days   country age_group  \n",
       "0                     1     india     18-24  \n",
       "1                     0  portugal       65+  \n",
       "2                     0       usa     35-44  \n",
       "3                    67     china     55-64  \n",
       "4                    32       usa     25-34  \n",
       "5                    14       usa     35-44  \n",
       "6                     1    canada     45-54  \n",
       "7                     1    canada     18-24  \n",
       "8                     5     spain     25-34  \n",
       "9                    10   belgium     18-24  "
      ]
     },
     "execution_count": 3,
     "metadata": {},
     "output_type": "execute_result"
    }
   ],
   "source": [
    "df = pd.read_csv('./data/profile-info.csv')\n",
    "df"
   ]
  },
  {
   "cell_type": "code",
   "execution_count": 53,
   "id": "db48abfb-9079-4141-8dcc-512bcf97fad7",
   "metadata": {
    "tags": []
   },
   "outputs": [],
   "source": [
    "def days_since(date_str):\n",
    "    date = datetime.strptime(date_str, '%m-%d-%Y')\n",
    "    now = datetime.now()\n",
    "    return (now - date).days"
   ]
  },
  {
   "cell_type": "code",
   "execution_count": 54,
   "id": "519a8933-874d-40b6-b647-c80b5e85059e",
   "metadata": {
    "tags": []
   },
   "outputs": [
    {
     "data": {
      "text/plain": [
       "286"
      ]
     },
     "execution_count": 54,
     "metadata": {},
     "output_type": "execute_result"
    }
   ],
   "source": [
    "transformer = FunctionTransformer(days_since, validate=False)\n",
    "transformer.transform('03-03-2022')"
   ]
  },
  {
   "cell_type": "code",
   "execution_count": 55,
   "id": "61a7fdba-3fdf-4456-beb1-3c62eaae3369",
   "metadata": {
    "tags": []
   },
   "outputs": [
    {
     "data": {
      "text/plain": [
       "'auto'"
      ]
     },
     "execution_count": 55,
     "metadata": {},
     "output_type": "execute_result"
    }
   ],
   "source": [
    "# Define the categories and their ordering\n",
    "age_groups = [['18-24'], ['25-34'], ['35-44'], ['45-54'], ['55-64'], ['65+']]\n",
    "# Create the encoder\n",
    "age_group_encoder = OrdinalEncoder().fit(df[['age_group']])\n",
    "age_group_encoder.categories"
   ]
  },
  {
   "cell_type": "code",
   "execution_count": 57,
   "id": "058a48f2-16f4-4651-83a7-8038702c171f",
   "metadata": {
    "tags": []
   },
   "outputs": [
    {
     "data": {
      "text/plain": [
       "array([[2.]])"
      ]
     },
     "execution_count": 57,
     "metadata": {},
     "output_type": "execute_result"
    }
   ],
   "source": [
    "# Use the fitted encoder to transform new data\n",
    "test_age_group = ['35-44']\n",
    "encoded_data = age_group_encoder.transform([test_age_group])\n",
    "encoded_data"
   ]
  },
  {
   "cell_type": "code",
   "execution_count": null,
   "id": "0602b502-c1af-4a74-b757-91a9f1449502",
   "metadata": {},
   "outputs": [],
   "source": []
  },
  {
   "cell_type": "code",
   "execution_count": null,
   "id": "e67b129f-95b6-4504-a199-e2e9764305be",
   "metadata": {},
   "outputs": [],
   "source": []
  },
  {
   "cell_type": "code",
   "execution_count": null,
   "id": "6201bb3f-74ce-4077-aef9-efa312eee338",
   "metadata": {},
   "outputs": [],
   "source": []
  }
 ],
 "metadata": {
  "forced_instance_type": "ml.t3.medium",
  "forced_lcc_arn": "",
  "instance_type": "ml.t3.medium",
  "kernelspec": {
   "display_name": "Python 3 (Data Science)",
   "language": "python",
   "name": "python3__SAGEMAKER_INTERNAL__arn:aws:sagemaker:us-east-1:081325390199:image/datascience-1.0"
  },
  "language_info": {
   "codemirror_mode": {
    "name": "ipython",
    "version": 3
   },
   "file_extension": ".py",
   "mimetype": "text/x-python",
   "name": "python",
   "nbconvert_exporter": "python",
   "pygments_lexer": "ipython3",
   "version": "3.7.10"
  }
 },
 "nbformat": 4,
 "nbformat_minor": 5
}
