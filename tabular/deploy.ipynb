{
 "cells": [
  {
   "cell_type": "code",
   "execution_count": null,
   "id": "a806a73b",
   "metadata": {},
   "outputs": [],
   "source": [
    "!python -m pip install --upgrade pip"
   ]
  },
  {
   "cell_type": "code",
   "execution_count": 57,
   "id": "eb6ea1a5",
   "metadata": {},
   "outputs": [
    {
     "name": "stdout",
     "output_type": "stream",
     "text": [
      "Sending build context to Docker daemon  79.36kB\n",
      "Step 1/6 : FROM python:3.7\n",
      " ---> 5cda39795abb\n",
      "Step 2/6 : COPY requirements.txt ./\n",
      " ---> Using cache\n",
      " ---> cb0502180872\n",
      "Step 3/6 : RUN pip install --no-cache-dir -r requirements.txt\n",
      " ---> Using cache\n",
      " ---> b8cd9ebdcc1a\n",
      "Step 4/6 : COPY serve /usr/local/bin\n",
      " ---> 489a781d9ae6\n",
      "Step 5/6 : RUN chmod +x /usr/local/bin/serve\n",
      " ---> Running in d440280ad473\n",
      "Removing intermediate container d440280ad473\n",
      " ---> a8a246da487c\n",
      "Step 6/6 : EXPOSE 8080\n",
      " ---> Running in 9999896bab4e\n",
      "Removing intermediate container 9999896bab4e\n",
      " ---> 6a4ce9422455\n",
      "Successfully built 6a4ce9422455\n",
      "Successfully tagged sagemaker_feature_encoder8:latest\n"
     ]
    }
   ],
   "source": [
    "# image name preferably should start with sagemaker\n",
    "!docker build -t sagemaker_feature_encoder8 -f Dockerfile ."
   ]
  },
  {
   "cell_type": "code",
   "execution_count": 58,
   "id": "a300a34b",
   "metadata": {},
   "outputs": [
    {
     "name": "stdout",
     "output_type": "stream",
     "text": [
      "Container Name:  sagemaker_feature_encoder8\n",
      "Account:  119174016168\n",
      "Region: us-east-1\n",
      "ECR Repository:  119174016168.dkr.ecr.us-east-1.amazonaws.com\n",
      "ECR Image URI:  119174016168.dkr.ecr.us-east-1.amazonaws.com/sagemaker_feature_encoder8:latest\n",
      "Login Succeeded\n",
      "The push refers to repository [119174016168.dkr.ecr.us-east-1.amazonaws.com/sagemaker_feature_encoder8]\n",
      "b8d30430824a: Preparing\n",
      "2c8089a3bade: Preparing\n",
      "9697b36946da: Preparing\n",
      "b9e5d8fe6251: Preparing\n",
      "eef135e35b6e: Preparing\n",
      "a0db21004f62: Preparing\n",
      "0b53caaeb40b: Preparing\n",
      "1cad4dc57058: Preparing\n",
      "4ff8844d474a: Preparing\n",
      "b77487480ddb: Preparing\n",
      "cd247c0fb37b: Preparing\n",
      "cfdd5c3bd77e: Preparing\n",
      "870a241bfebd: Preparing\n",
      "a0db21004f62: Waiting\n",
      "0b53caaeb40b: Waiting\n",
      "1cad4dc57058: Waiting\n",
      "4ff8844d474a: Waiting\n",
      "b77487480ddb: Waiting\n",
      "cd247c0fb37b: Waiting\n",
      "cfdd5c3bd77e: Waiting\n",
      "870a241bfebd: Waiting\n",
      "2c8089a3bade: Pushed\n",
      "b8d30430824a: Pushed\n",
      "b9e5d8fe6251: Pushed\n",
      "a0db21004f62: Pushed\n",
      "eef135e35b6e: Pushed\n",
      "1cad4dc57058: Pushed\n",
      "0b53caaeb40b: Pushed\n",
      "cd247c0fb37b: Pushed\n",
      "cfdd5c3bd77e: Pushed\n",
      "b77487480ddb: Pushed\n",
      "870a241bfebd: Pushed\n",
      "9697b36946da: Pushed\n",
      "4ff8844d474a: Pushed\n",
      "latest: digest: sha256:93cc9b12457c0662664386211e2bffd058f5c9b86d877f091883394f62cc43dc size: 3054\n"
     ]
    },
    {
     "name": "stderr",
     "output_type": "stream",
     "text": [
      "WARNING! Your password will be stored unencrypted in /home/ec2-user/.docker/config.json.\n",
      "Configure a credential helper to remove this warning. See\n",
      "https://docs.docker.com/engine/reference/commandline/login/#credentials-store\n",
      "\n"
     ]
    }
   ],
   "source": [
    "%%sh\n",
    "\n",
    "# Specify a name to your custom container\n",
    "container_name=sagemaker_feature_encoder8\n",
    "echo \"Container Name: \" ${container_name}\n",
    "\n",
    "# Retreive AWS account ID\n",
    "account=$(aws sts get-caller-identity --query Account --output text)\n",
    "\n",
    "# Get the AWS region defined in the current configuration (default to us-east-1 if none defined)\n",
    "region=$(aws configure get region)\n",
    "region=${region:-us-east-1}\n",
    "\n",
    "echo \"Account: \" ${account}\n",
    "echo \"Region: \"${region}\n",
    "\n",
    "repository=\"${account}.dkr.ecr.${region}.amazonaws.com\"\n",
    "echo \"ECR Repository: \" ${repository}\n",
    "\n",
    "image=\"${account}.dkr.ecr.${region}.amazonaws.com/${container_name}:latest\"\n",
    "echo \"ECR Image URI: \" ${image}\n",
    "\n",
    "# If the ECR repository does not exist, create it.\n",
    "aws ecr describe-repositories --repository-names ${container_name} > /dev/null 2>&1\n",
    "if [ $? -ne 0 ]\n",
    "then\n",
    "aws ecr create-repository --repository-name ${container_name} > /dev/null\n",
    "fi\n",
    "\n",
    "# Get the login command from ECR and execute it directly\n",
    "aws ecr get-login-password --region ${region} | docker login --username AWS --password-stdin ${repository}\n",
    "\n",
    "# Tag the local image with ECR image name\n",
    "docker tag ${container_name} ${image}\n",
    "\n",
    "# Finally, push the local docker image to ECR with the full ECR image name\n",
    "docker push ${image}"
   ]
  },
  {
   "cell_type": "code",
   "execution_count": null,
   "id": "5bd00fc9",
   "metadata": {},
   "outputs": [],
   "source": [
    "#!docker rmi $(docker images -q) -f"
   ]
  },
  {
   "cell_type": "markdown",
   "id": "cc341b47",
   "metadata": {},
   "source": [
    "## Deploy feature encoder as a SageMaker real time endpoint"
   ]
  },
  {
   "cell_type": "markdown",
   "id": "43aa0d60",
   "metadata": {},
   "source": [
    "### Imports "
   ]
  },
  {
   "cell_type": "code",
   "execution_count": 59,
   "id": "8f64e59d",
   "metadata": {},
   "outputs": [],
   "source": [
    "from time import gmtime, strftime\n",
    "import sagemaker\n",
    "import datetime\n",
    "import boto3"
   ]
  },
  {
   "cell_type": "code",
   "execution_count": 60,
   "id": "eb39dcad",
   "metadata": {},
   "outputs": [
    {
     "data": {
      "text/plain": [
       "'119174016168.dkr.ecr.us-east-1.amazonaws.com/sagemaker_feature_encoder8:latest'"
      ]
     },
     "execution_count": 60,
     "metadata": {},
     "output_type": "execute_result"
    }
   ],
   "source": [
    "role = sagemaker.get_execution_role()\n",
    "session = sagemaker.Session()\n",
    "account = session.boto_session.client('sts').get_caller_identity()['Account']\n",
    "region = session.boto_session.region_name\n",
    "sagemaker_client = boto3.client('sagemaker', region_name=region)\n",
    "image_name = 'sagemaker_feature_encoder8'\n",
    "image_uri = f'{account}.dkr.ecr.{region}.amazonaws.com/{image_name}:latest'\n",
    "image_uri"
   ]
  },
  {
   "cell_type": "code",
   "execution_count": 61,
   "id": "4f212f06",
   "metadata": {},
   "outputs": [],
   "source": [
    "current_timestamp = strftime(\"%Y-%m-%d-%H-%M-%S\", gmtime())\n",
    "model_name = f'feature-encoder-{current_timestamp}'"
   ]
  },
  {
   "cell_type": "code",
   "execution_count": 62,
   "id": "09d89d04",
   "metadata": {},
   "outputs": [],
   "source": [
    "!tar -czf encoder.tar.gz -C ./data ."
   ]
  },
  {
   "cell_type": "code",
   "execution_count": 63,
   "id": "bb7a69fc",
   "metadata": {},
   "outputs": [
    {
     "data": {
      "text/plain": [
       "'sagemaker-us-east-1-119174016168'"
      ]
     },
     "execution_count": 63,
     "metadata": {},
     "output_type": "execute_result"
    }
   ],
   "source": [
    "default_bucket = session.default_bucket()\n",
    "default_bucket"
   ]
  },
  {
   "cell_type": "code",
   "execution_count": 64,
   "id": "742c92f9",
   "metadata": {},
   "outputs": [
    {
     "name": "stdout",
     "output_type": "stream",
     "text": [
      "Completed 1.7 KiB/1.7 KiB (29.5 KiB/s) with 1 file(s) remaining\r",
      "upload: ./encoder.tar.gz to s3://sagemaker-us-east-1-119174016168/encoder.tar.gz\r\n"
     ]
    }
   ],
   "source": [
    "!aws s3 cp encoder.tar.gz s3://{default_bucket}/"
   ]
  },
  {
   "cell_type": "code",
   "execution_count": 65,
   "id": "3acdb099",
   "metadata": {},
   "outputs": [],
   "source": [
    "model_artifacts_location = f's3://{default_bucket}/encoder.tar.gz'"
   ]
  },
  {
   "cell_type": "code",
   "execution_count": 66,
   "id": "6de46626",
   "metadata": {},
   "outputs": [
    {
     "name": "stdout",
     "output_type": "stream",
     "text": [
      "Model Arn: arn:aws:sagemaker:us-east-1:119174016168:model/feature-encoder-2022-12-15-17-55-26\n"
     ]
    }
   ],
   "source": [
    "response = sagemaker_client.create_model(ModelName=model_name, \n",
    "                                         Containers=[{\n",
    "                                             \"Image\": image_uri, \n",
    "                                             \"Mode\": \"SingleModel\", \n",
    "                                             \"ModelDataUrl\": model_artifacts_location}], \n",
    "                                         ExecutionRoleArn=role)\n",
    "\n",
    "print(f'Model Arn: {response[\"ModelArn\"]}')"
   ]
  },
  {
   "cell_type": "code",
   "execution_count": 67,
   "id": "a5b83410",
   "metadata": {},
   "outputs": [
    {
     "name": "stdout",
     "output_type": "stream",
     "text": [
      "Endpoint Configuration Arn: arn:aws:sagemaker:us-east-1:119174016168:endpoint-config/sm-feature-encoder2022-12-15-17-55-27\n"
     ]
    }
   ],
   "source": [
    "ep_config_name = \"sm-feature-encoder\" + strftime(\"%Y-%m-%d-%H-%M-%S\", gmtime())\n",
    "\n",
    "endpoint_config_response = sagemaker_client.create_endpoint_config(\n",
    "    EndpointConfigName=ep_config_name,\n",
    "    \n",
    "    \n",
    "    ProductionVariants=[\n",
    "        {\n",
    "            \"VariantName\": \"v1\",\n",
    "            \"ModelName\": model_name,\n",
    "            \"InstanceType\": \"ml.m5.xlarge\",\n",
    "            'InitialInstanceCount': 2,\n",
    "                        'InitialVariantWeight': 1,}\n",
    "    ]\n",
    ")\n",
    "\n",
    "print(\"Endpoint Configuration Arn: \" + endpoint_config_response[\"EndpointConfigArn\"])"
   ]
  },
  {
   "cell_type": "code",
   "execution_count": 68,
   "id": "d98c6deb",
   "metadata": {},
   "outputs": [
    {
     "data": {
      "text/plain": [
       "{'EndpointArn': 'arn:aws:sagemaker:us-east-1:119174016168:endpoint/sm-feature-encoder2022-12-15-17-55-271',\n",
       " 'ResponseMetadata': {'RequestId': 'e5042bd3-cfec-42fb-be1b-0b321e6fb49d',\n",
       "  'HTTPStatusCode': 200,\n",
       "  'HTTPHeaders': {'x-amzn-requestid': 'e5042bd3-cfec-42fb-be1b-0b321e6fb49d',\n",
       "   'content-type': 'application/x-amz-json-1.1',\n",
       "   'content-length': '106',\n",
       "   'date': 'Thu, 15 Dec 2022 17:55:27 GMT'},\n",
       "  'RetryAttempts': 0}}"
      ]
     },
     "execution_count": 68,
     "metadata": {},
     "output_type": "execute_result"
    }
   ],
   "source": [
    "response = sagemaker_client.create_endpoint(\n",
    "              EndpointName       = ep_config_name + '1',\n",
    "              EndpointConfigName = ep_config_name)\n",
    "response"
   ]
  },
  {
   "cell_type": "code",
   "execution_count": 69,
   "id": "434b31dd",
   "metadata": {},
   "outputs": [],
   "source": [
    "\n",
    "\n",
    "sagemaker_runtime = boto3.client(\"sagemaker-runtime\", region_name='us-east-1')\n",
    "\n"
   ]
  },
  {
   "cell_type": "code",
   "execution_count": 72,
   "id": "c522b2e3",
   "metadata": {},
   "outputs": [
    {
     "name": "stdout",
     "output_type": "stream",
     "text": [
      "CPU times: user 16.8 ms, sys: 0 ns, total: 16.8 ms\n",
      "Wall time: 112 ms\n"
     ]
    },
    {
     "data": {
      "text/plain": [
       "{'ResponseMetadata': {'RequestId': 'ea8a0a60-c949-48f4-aecc-da91344d9037',\n",
       "  'HTTPStatusCode': 200,\n",
       "  'HTTPHeaders': {'x-amzn-requestid': 'ea8a0a60-c949-48f4-aecc-da91344d9037',\n",
       "   'x-amzn-invoked-production-variant': 'v1',\n",
       "   'date': 'Thu, 15 Dec 2022 17:57:39 GMT',\n",
       "   'content-type': 'text/csv; charset=utf-8',\n",
       "   'content-length': '128'},\n",
       "  'RetryAttempts': 0},\n",
       " 'ContentType': 'text/csv; charset=utf-8',\n",
       " 'InvokedProductionVariant': 'v1',\n",
       " 'Body': <botocore.response.StreamingBody at 0x7fbfd5019610>}"
      ]
     },
     "execution_count": 72,
     "metadata": {},
     "output_type": "execute_result"
    }
   ],
   "source": [
    "%%time\n",
    "\n",
    "endpoint_name = ep_config_name + '1'\n",
    "response = sagemaker_runtime.invoke_endpoint(\n",
    "    EndpointName=endpoint_name,\n",
    "    Body=b\"10-19-2021,145,24,22,14,usa,65+\",\n",
    "    ContentType=\"text/csv\",\n",
    ")\n",
    "response"
   ]
  },
  {
   "cell_type": "code",
   "execution_count": 73,
   "id": "07774b32",
   "metadata": {},
   "outputs": [
    {
     "data": {
      "text/plain": [
       "'0.04209896249002394,0.41690962099125367,0.3142857142857143,0.25925925925925924,0.208955223880597,0.0,0.0,0.0,0.0,0.0,0.0,1.0,1.0'"
      ]
     },
     "execution_count": 73,
     "metadata": {},
     "output_type": "execute_result"
    }
   ],
   "source": [
    "\n",
    "\n",
    "predicted_label = response['Body'].read().decode('utf-8').strip()\n",
    "predicted_label\n",
    "\n"
   ]
  },
  {
   "cell_type": "code",
   "execution_count": null,
   "id": "89b0843b",
   "metadata": {},
   "outputs": [],
   "source": []
  },
  {
   "cell_type": "code",
   "execution_count": null,
   "id": "ccabd22e",
   "metadata": {},
   "outputs": [],
   "source": []
  },
  {
   "cell_type": "code",
   "execution_count": null,
   "id": "a3349b05",
   "metadata": {},
   "outputs": [],
   "source": []
  },
  {
   "cell_type": "code",
   "execution_count": null,
   "id": "6e29aff1",
   "metadata": {},
   "outputs": [],
   "source": []
  }
 ],
 "metadata": {
  "kernelspec": {
   "display_name": "conda_python3",
   "language": "python",
   "name": "conda_python3"
  },
  "language_info": {
   "codemirror_mode": {
    "name": "ipython",
    "version": 3
   },
   "file_extension": ".py",
   "mimetype": "text/x-python",
   "name": "python",
   "nbconvert_exporter": "python",
   "pygments_lexer": "ipython3",
   "version": "3.8.12"
  }
 },
 "nbformat": 4,
 "nbformat_minor": 5
}
