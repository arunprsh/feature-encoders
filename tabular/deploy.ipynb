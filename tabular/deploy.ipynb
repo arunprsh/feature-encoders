{
 "cells": [
  {
   "cell_type": "markdown",
   "id": "33ac9ba9-3040-428c-9d2d-7a4ecfce8b89",
   "metadata": {},
   "source": [
    "#### Prerequisite"
   ]
  },
  {
   "cell_type": "code",
   "execution_count": null,
   "id": "91ac7ffd-e868-45d6-b039-9e5ef158b43c",
   "metadata": {},
   "outputs": [],
   "source": [
    "!python -m pip install --upgrade pip"
   ]
  },
  {
   "cell_type": "markdown",
   "id": "9b9d5dbd-31e7-41c6-b5f9-d13759a650e7",
   "metadata": {},
   "source": [
    "#### Create a docker image\n",
    "\n",
    "This step can run in SageMaker classic notebook environment or in your own local environment with docker installed."
   ]
  },
  {
   "cell_type": "code",
   "execution_count": 1,
   "id": "eb6ea1a5",
   "metadata": {},
   "outputs": [
    {
     "name": "stdout",
     "output_type": "stream",
     "text": [
      "Sending build context to Docker daemon  91.14kB\n",
      "Step 1/7 : FROM python:3.7\n",
      " ---> 5cda39795abb\n",
      "Step 2/7 : COPY requirements.txt ./\n",
      " ---> Using cache\n",
      " ---> d54ca5598bf4\n",
      "Step 3/7 : RUN python -m pip install --upgrade pip\n",
      " ---> Using cache\n",
      " ---> 6b5d5e0c3e3f\n",
      "Step 4/7 : RUN pip install --no-cache-dir -r requirements.txt\n",
      " ---> Using cache\n",
      " ---> 9bac79560c84\n",
      "Step 5/7 : COPY serve /usr/local/bin\n",
      " ---> Using cache\n",
      " ---> 1e5ed6c813f0\n",
      "Step 6/7 : RUN chmod +x /usr/local/bin/serve\n",
      " ---> Using cache\n",
      " ---> 166f0caad908\n",
      "Step 7/7 : EXPOSE 8080\n",
      " ---> Using cache\n",
      " ---> 6564c8a85bf1\n",
      "Successfully built 6564c8a85bf1\n",
      "Successfully tagged sagemaker_feature_encoder:latest\n"
     ]
    }
   ],
   "source": [
    "# Image name below preferably starts with the prefix `sagemaker`\n",
    "!docker build -t sagemaker_feature_encoder -f Dockerfile ."
   ]
  },
  {
   "cell_type": "markdown",
   "id": "3cd86870-173d-40fb-86bd-b24fed56a9e7",
   "metadata": {},
   "source": [
    "#### Push docker image from local to ECR"
   ]
  },
  {
   "cell_type": "code",
   "execution_count": 2,
   "id": "a300a34b",
   "metadata": {},
   "outputs": [
    {
     "name": "stdout",
     "output_type": "stream",
     "text": [
      "Container Name:  sagemaker_feature_encoder\n",
      "Account:  892313895307\n",
      "Region: us-east-1\n",
      "ECR Repository:  892313895307.dkr.ecr.us-east-1.amazonaws.com\n",
      "ECR Image URI:  892313895307.dkr.ecr.us-east-1.amazonaws.com/sagemaker_feature_encoder:latest\n",
      "Login Succeeded\n",
      "The push refers to repository [892313895307.dkr.ecr.us-east-1.amazonaws.com/sagemaker_feature_encoder]\n",
      "758c7aa4aa56: Preparing\n",
      "e02f76465e84: Preparing\n",
      "56b43070d8da: Preparing\n",
      "2ec88b0c27f0: Preparing\n",
      "58569f4de894: Preparing\n",
      "eef135e35b6e: Preparing\n",
      "a0db21004f62: Preparing\n",
      "0b53caaeb40b: Preparing\n",
      "1cad4dc57058: Preparing\n",
      "4ff8844d474a: Preparing\n",
      "b77487480ddb: Preparing\n",
      "cd247c0fb37b: Preparing\n",
      "cfdd5c3bd77e: Preparing\n",
      "870a241bfebd: Preparing\n",
      "eef135e35b6e: Waiting\n",
      "a0db21004f62: Waiting\n",
      "cd247c0fb37b: Waiting\n",
      "870a241bfebd: Waiting\n",
      "1cad4dc57058: Waiting\n",
      "b77487480ddb: Waiting\n",
      "0b53caaeb40b: Waiting\n",
      "cfdd5c3bd77e: Waiting\n",
      "4ff8844d474a: Waiting\n",
      "2ec88b0c27f0: Layer already exists\n",
      "e02f76465e84: Layer already exists\n",
      "758c7aa4aa56: Layer already exists\n",
      "58569f4de894: Layer already exists\n",
      "56b43070d8da: Layer already exists\n",
      "eef135e35b6e: Layer already exists\n",
      "a0db21004f62: Layer already exists\n",
      "0b53caaeb40b: Layer already exists\n",
      "1cad4dc57058: Layer already exists\n",
      "4ff8844d474a: Layer already exists\n",
      "b77487480ddb: Layer already exists\n",
      "cfdd5c3bd77e: Layer already exists\n",
      "cd247c0fb37b: Layer already exists\n",
      "870a241bfebd: Layer already exists\n",
      "latest: digest: sha256:67ac6415ba7113473285e9cff41ad96bac0b74f36f8a7f3da53b95663e5f84b2 size: 3265\n"
     ]
    },
    {
     "name": "stderr",
     "output_type": "stream",
     "text": [
      "WARNING! Your password will be stored unencrypted in /home/ec2-user/.docker/config.json.\n",
      "Configure a credential helper to remove this warning. See\n",
      "https://docs.docker.com/engine/reference/commandline/login/#credentials-store\n",
      "\n"
     ]
    }
   ],
   "source": [
    "%%sh\n",
    "\n",
    "# Specify a name to your custom container\n",
    "container_name=sagemaker_feature_encoder  # should match name from previous cell\n",
    "echo \"Container Name: \" ${container_name}\n",
    "\n",
    "# Retreive AWS account ID\n",
    "account=$(aws sts get-caller-identity --query Account --output text)\n",
    "\n",
    "# Get the AWS region defined in the current configuration (default to us-east-1 if none defined)\n",
    "region=$(aws configure get region)\n",
    "region=${region:-us-east-1}\n",
    "\n",
    "echo \"Account: \" ${account}\n",
    "echo \"Region: \"${region}\n",
    "\n",
    "repository=\"${account}.dkr.ecr.${region}.amazonaws.com\"\n",
    "echo \"ECR Repository: \" ${repository}\n",
    "\n",
    "image=\"${account}.dkr.ecr.${region}.amazonaws.com/${container_name}:latest\"\n",
    "echo \"ECR Image URI: \" ${image}\n",
    "\n",
    "# If the ECR repository does not exist, create it.\n",
    "aws ecr describe-repositories --repository-names ${container_name} > /dev/null 2>&1\n",
    "if [ $? -ne 0 ]\n",
    "then\n",
    "aws ecr create-repository --repository-name ${container_name} > /dev/null\n",
    "fi\n",
    "\n",
    "# Get the login command from ECR and execute it directly\n",
    "aws ecr get-login-password --region ${region} | docker login --username AWS --password-stdin ${repository}\n",
    "\n",
    "# Tag the local image with ECR image name\n",
    "docker tag ${container_name} ${image}\n",
    "\n",
    "# Finally, push the local docker image to ECR with the full ECR image name\n",
    "docker push ${image}"
   ]
  },
  {
   "cell_type": "markdown",
   "id": "2268f9ba-8d74-4f71-ba20-c38ada2d59be",
   "metadata": {},
   "source": [
    "##### Uncomment and run the command below if your local images need to be cleaned."
   ]
  },
  {
   "cell_type": "code",
   "execution_count": 3,
   "id": "5bd00fc9",
   "metadata": {},
   "outputs": [],
   "source": [
    "#!docker rmi $(docker images -q) -f"
   ]
  },
  {
   "cell_type": "markdown",
   "id": "cc341b47",
   "metadata": {},
   "source": [
    "## Deploy feature encoder as a SageMaker real time endpoint"
   ]
  },
  {
   "cell_type": "markdown",
   "id": "43aa0d60",
   "metadata": {},
   "source": [
    "#### Imports "
   ]
  },
  {
   "cell_type": "code",
   "execution_count": 4,
   "id": "8f64e59d",
   "metadata": {},
   "outputs": [],
   "source": [
    "from time import gmtime, strftime\n",
    "import sagemaker\n",
    "import datetime\n",
    "import boto3\n",
    "import time"
   ]
  },
  {
   "cell_type": "markdown",
   "id": "942bacbf-d2a0-40ab-a9c7-e3f7cc070cfe",
   "metadata": {},
   "source": [
    "#### Essentials"
   ]
  },
  {
   "cell_type": "code",
   "execution_count": 5,
   "id": "eb39dcad",
   "metadata": {},
   "outputs": [],
   "source": [
    "role = sagemaker.get_execution_role()\n",
    "session = sagemaker.Session()\n",
    "account = session.boto_session.client('sts').get_caller_identity()['Account']\n",
    "region = session.boto_session.region_name\n",
    "sagemaker_client = boto3.client('sagemaker', region_name=region)\n",
    "image_name = 'sagemaker_feature_encoder'\n",
    "image_uri = f'{account}.dkr.ecr.{region}.amazonaws.com/{image_name}:latest'\n",
    "current_timestamp = strftime(\"%Y-%m-%d-%H-%M-%S\", gmtime())"
   ]
  },
  {
   "cell_type": "markdown",
   "id": "759b4ad1-777d-4a5c-ba37-00eef9fd9374",
   "metadata": {},
   "source": [
    "#### Pack all encoders into a tar file and push to S3"
   ]
  },
  {
   "cell_type": "code",
   "execution_count": 6,
   "id": "09d89d04",
   "metadata": {},
   "outputs": [],
   "source": [
    "!tar -czf encoder.tar.gz -C ./data ."
   ]
  },
  {
   "cell_type": "code",
   "execution_count": 7,
   "id": "bb7a69fc",
   "metadata": {},
   "outputs": [
    {
     "data": {
      "text/plain": [
       "'sagemaker-us-east-1-892313895307'"
      ]
     },
     "execution_count": 7,
     "metadata": {},
     "output_type": "execute_result"
    }
   ],
   "source": [
    "default_bucket = session.default_bucket()\n",
    "default_bucket"
   ]
  },
  {
   "cell_type": "code",
   "execution_count": 8,
   "id": "742c92f9",
   "metadata": {},
   "outputs": [
    {
     "name": "stdout",
     "output_type": "stream",
     "text": [
      "Completed 1.7 KiB/1.7 KiB (23.7 KiB/s) with 1 file(s) remaining\r",
      "upload: ./encoder.tar.gz to s3://sagemaker-us-east-1-892313895307/encoder.tar.gz\r\n"
     ]
    }
   ],
   "source": [
    "!aws s3 cp encoder.tar.gz s3://{default_bucket}/"
   ]
  },
  {
   "cell_type": "markdown",
   "id": "3e146fea-0840-4309-8584-e163f9e2ebc0",
   "metadata": {},
   "source": [
    "#### Create a SageMaker model object"
   ]
  },
  {
   "cell_type": "code",
   "execution_count": 9,
   "id": "a6d66e40-a854-49b0-984f-8ed0a1b4973d",
   "metadata": {},
   "outputs": [],
   "source": [
    "model_name = f'feature-encoder-{current_timestamp}'\n",
    "model_artifacts_location = f's3://{default_bucket}/encoder.tar.gz'"
   ]
  },
  {
   "cell_type": "code",
   "execution_count": 10,
   "id": "3acdb099",
   "metadata": {},
   "outputs": [
    {
     "data": {
      "text/plain": [
       "{'ModelArn': 'arn:aws:sagemaker:us-east-1:892313895307:model/feature-encoder-2022-12-15-20-39-41',\n",
       " 'ResponseMetadata': {'RequestId': '48fa04a8-c844-4e65-9126-f54d5d1ba5d5',\n",
       "  'HTTPStatusCode': 200,\n",
       "  'HTTPHeaders': {'x-amzn-requestid': '48fa04a8-c844-4e65-9126-f54d5d1ba5d5',\n",
       "   'content-type': 'application/x-amz-json-1.1',\n",
       "   'content-length': '97',\n",
       "   'date': 'Thu, 15 Dec 2022 20:39:44 GMT'},\n",
       "  'RetryAttempts': 0}}"
      ]
     },
     "execution_count": 10,
     "metadata": {},
     "output_type": "execute_result"
    }
   ],
   "source": [
    "response = sagemaker_client.create_model(ModelName=model_name, \n",
    "                                         Containers=[{\n",
    "                                             'Image': image_uri, \n",
    "                                             'Mode': 'SingleModel', \n",
    "                                             'ModelDataUrl': model_artifacts_location}], \n",
    "                                         ExecutionRoleArn=role)\n",
    "response"
   ]
  },
  {
   "cell_type": "markdown",
   "id": "0fcfddce-2ca6-4af9-be29-774db0d8e2ba",
   "metadata": {},
   "source": [
    "#### Create a SageMaker endpoint configuration"
   ]
  },
  {
   "cell_type": "code",
   "execution_count": 11,
   "id": "10926fe7-2c0a-4c94-83f3-ed0eaecfdb61",
   "metadata": {},
   "outputs": [],
   "source": [
    "endpoint_config_name = f'feature-encoder-{current_timestamp}'"
   ]
  },
  {
   "cell_type": "code",
   "execution_count": 12,
   "id": "a5b83410",
   "metadata": {},
   "outputs": [
    {
     "data": {
      "text/plain": [
       "{'EndpointConfigArn': 'arn:aws:sagemaker:us-east-1:892313895307:endpoint-config/feature-encoder-2022-12-15-20-39-41',\n",
       " 'ResponseMetadata': {'RequestId': 'ee58184c-c0fa-4a13-9c0f-c011cd5deb32',\n",
       "  'HTTPStatusCode': 200,\n",
       "  'HTTPHeaders': {'x-amzn-requestid': 'ee58184c-c0fa-4a13-9c0f-c011cd5deb32',\n",
       "   'content-type': 'application/x-amz-json-1.1',\n",
       "   'content-length': '116',\n",
       "   'date': 'Thu, 15 Dec 2022 20:39:45 GMT'},\n",
       "  'RetryAttempts': 0}}"
      ]
     },
     "execution_count": 12,
     "metadata": {},
     "output_type": "execute_result"
    }
   ],
   "source": [
    "response = sagemaker_client.create_endpoint_config(EndpointConfigName=endpoint_config_name, \n",
    "                                                   ProductionVariants=[{\n",
    "                                                       'VariantName': 'v1', \n",
    "                                                       'ModelName': model_name, \n",
    "                                                       'InstanceType': 'ml.c5.xlarge', \n",
    "                                                       'InitialInstanceCount': 2, \n",
    "                                                       'InitialVariantWeight': 1\n",
    "                                                   }])\n",
    "response"
   ]
  },
  {
   "cell_type": "markdown",
   "id": "320665de-24d5-41fe-9a3e-e5eb1130310d",
   "metadata": {},
   "source": [
    "#### Create a SageMaker endpoint"
   ]
  },
  {
   "cell_type": "code",
   "execution_count": 13,
   "id": "4ea000e9-9264-41eb-b84d-d9fac6fdfb38",
   "metadata": {},
   "outputs": [],
   "source": [
    "endpoint_name = f'feature-encoder-{current_timestamp}'"
   ]
  },
  {
   "cell_type": "code",
   "execution_count": 14,
   "id": "d98c6deb",
   "metadata": {},
   "outputs": [
    {
     "data": {
      "text/plain": [
       "{'EndpointArn': 'arn:aws:sagemaker:us-east-1:892313895307:endpoint/feature-encoder-2022-12-15-20-39-41',\n",
       " 'ResponseMetadata': {'RequestId': '1efe686e-7624-4969-9a8c-31528f8a91b7',\n",
       "  'HTTPStatusCode': 200,\n",
       "  'HTTPHeaders': {'x-amzn-requestid': '1efe686e-7624-4969-9a8c-31528f8a91b7',\n",
       "   'content-type': 'application/x-amz-json-1.1',\n",
       "   'content-length': '103',\n",
       "   'date': 'Thu, 15 Dec 2022 20:39:47 GMT'},\n",
       "  'RetryAttempts': 0}}"
      ]
     },
     "execution_count": 14,
     "metadata": {},
     "output_type": "execute_result"
    }
   ],
   "source": [
    "response = sagemaker_client.create_endpoint(EndpointName=endpoint_name, \n",
    "                                            EndpointConfigName=endpoint_config_name)\n",
    "response"
   ]
  },
  {
   "cell_type": "markdown",
   "id": "00da3d7b-3871-4558-b451-b2a12fcc1f9c",
   "metadata": {},
   "source": [
    "#### Describe endpoint to track creation status"
   ]
  },
  {
   "cell_type": "code",
   "execution_count": 15,
   "id": "aa54a28a-9fde-4a7c-8423-682881066295",
   "metadata": {},
   "outputs": [
    {
     "name": "stdout",
     "output_type": "stream",
     "text": [
      "Creating\n",
      "Creating\n",
      "Creating\n",
      "Creating\n",
      "Creating\n",
      "Creating\n",
      "InService\n"
     ]
    }
   ],
   "source": [
    "response = sagemaker_client.describe_endpoint(EndpointName=endpoint_name)\n",
    "endpoint_status = response['EndpointStatus']\n",
    "\n",
    "while endpoint_status == 'Creating':\n",
    "    time.sleep(15)\n",
    "    response = sagemaker_client.describe_endpoint(EndpointName=endpoint_name)\n",
    "    endpoint_status = response['EndpointStatus'] \n",
    "    print(endpoint_status)"
   ]
  },
  {
   "cell_type": "markdown",
   "id": "07b53b99-5142-408a-b819-665bd1683279",
   "metadata": {},
   "source": [
    "#### Invoke endpoint to test deployed feature encoder"
   ]
  },
  {
   "cell_type": "code",
   "execution_count": 16,
   "id": "434b31dd",
   "metadata": {},
   "outputs": [],
   "source": [
    "sagemaker_runtime = boto3.client('sagemaker-runtime', \n",
    "                                 region_name=region)"
   ]
  },
  {
   "cell_type": "code",
   "execution_count": 17,
   "id": "9b40813b-dab0-4630-a206-ed7ad67e5bef",
   "metadata": {},
   "outputs": [],
   "source": [
    "raw_payload = b\"10-19-2021,145,24,22,14,usa,65+\""
   ]
  },
  {
   "cell_type": "code",
   "execution_count": 18,
   "id": "c522b2e3",
   "metadata": {},
   "outputs": [
    {
     "name": "stdout",
     "output_type": "stream",
     "text": [
      "CPU times: user 10.8 ms, sys: 0 ns, total: 10.8 ms\n",
      "Wall time: 93.9 ms\n"
     ]
    },
    {
     "data": {
      "text/plain": [
       "{'ResponseMetadata': {'RequestId': '8d5365bf-1377-4611-98bc-c878a3db65d8',\n",
       "  'HTTPStatusCode': 200,\n",
       "  'HTTPHeaders': {'x-amzn-requestid': '8d5365bf-1377-4611-98bc-c878a3db65d8',\n",
       "   'x-amzn-invoked-production-variant': 'v1',\n",
       "   'date': 'Thu, 15 Dec 2022 20:41:41 GMT',\n",
       "   'content-type': 'text/csv; charset=utf-8',\n",
       "   'content-length': '128'},\n",
       "  'RetryAttempts': 0},\n",
       " 'ContentType': 'text/csv; charset=utf-8',\n",
       " 'InvokedProductionVariant': 'v1',\n",
       " 'Body': <botocore.response.StreamingBody at 0x7f14330555b0>}"
      ]
     },
     "execution_count": 18,
     "metadata": {},
     "output_type": "execute_result"
    }
   ],
   "source": [
    "%%time\n",
    "\n",
    "response = sagemaker_runtime.invoke_endpoint(EndpointName=endpoint_name, \n",
    "                                             Body=raw_payload, \n",
    "                                             ContentType='text/csv')\n",
    "response"
   ]
  },
  {
   "cell_type": "markdown",
   "id": "ac0811f9-d8f5-42bc-b8a1-51ab6a561a83",
   "metadata": {},
   "source": [
    "##### Extract feature vector from the response"
   ]
  },
  {
   "cell_type": "code",
   "execution_count": 19,
   "id": "07774b32",
   "metadata": {},
   "outputs": [
    {
     "data": {
      "text/plain": [
       "'0.04209896249002394,0.41690962099125367,0.3142857142857143,0.25925925925925924,0.208955223880597,0.0,0.0,0.0,0.0,0.0,0.0,1.0,1.0'"
      ]
     },
     "execution_count": 19,
     "metadata": {},
     "output_type": "execute_result"
    }
   ],
   "source": [
    "feature_vector = response['Body'].read().decode('utf-8').strip()\n",
    "feature_vector"
   ]
  },
  {
   "cell_type": "code",
   "execution_count": null,
   "id": "0d7495f1",
   "metadata": {},
   "outputs": [],
   "source": []
  }
 ],
 "metadata": {
  "instance_type": "ml.t3.medium",
  "kernelspec": {
   "display_name": "conda_python3",
   "language": "python",
   "name": "conda_python3"
  },
  "language_info": {
   "codemirror_mode": {
    "name": "ipython",
    "version": 3
   },
   "file_extension": ".py",
   "mimetype": "text/x-python",
   "name": "python",
   "nbconvert_exporter": "python",
   "pygments_lexer": "ipython3",
   "version": "3.8.12"
  }
 },
 "nbformat": 4,
 "nbformat_minor": 5
}
