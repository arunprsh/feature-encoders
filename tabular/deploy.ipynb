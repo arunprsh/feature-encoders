{
 "cells": [
  {
   "cell_type": "code",
   "execution_count": null,
   "id": "a806a73b",
   "metadata": {},
   "outputs": [],
   "source": [
    "!python -m pip install --upgrade pip"
   ]
  },
  {
   "cell_type": "code",
   "execution_count": null,
   "id": "eb6ea1a5",
   "metadata": {},
   "outputs": [],
   "source": [
    "# image name preferably should start with sagemaker\n",
    "!docker build -t sagemaker_feature_encoder8 -f Dockerfile ."
   ]
  },
  {
   "cell_type": "code",
   "execution_count": null,
   "id": "a300a34b",
   "metadata": {},
   "outputs": [],
   "source": [
    "%%sh\n",
    "\n",
    "# Specify a name to your custom container\n",
    "container_name=sagemaker_feature_encoder8\n",
    "echo \"Container Name: \" ${container_name}\n",
    "\n",
    "# Retreive AWS account ID\n",
    "account=$(aws sts get-caller-identity --query Account --output text)\n",
    "\n",
    "# Get the AWS region defined in the current configuration (default to us-east-1 if none defined)\n",
    "region=$(aws configure get region)\n",
    "region=${region:-us-east-1}\n",
    "\n",
    "echo \"Account: \" ${account}\n",
    "echo \"Region: \"${region}\n",
    "\n",
    "repository=\"${account}.dkr.ecr.${region}.amazonaws.com\"\n",
    "echo \"ECR Repository: \" ${repository}\n",
    "\n",
    "image=\"${account}.dkr.ecr.${region}.amazonaws.com/${container_name}:latest\"\n",
    "echo \"ECR Image URI: \" ${image}\n",
    "\n",
    "# If the ECR repository does not exist, create it.\n",
    "aws ecr describe-repositories --repository-names ${container_name} > /dev/null 2>&1\n",
    "if [ $? -ne 0 ]\n",
    "then\n",
    "aws ecr create-repository --repository-name ${container_name} > /dev/null\n",
    "fi\n",
    "\n",
    "# Get the login command from ECR and execute it directly\n",
    "aws ecr get-login-password --region ${region} | docker login --username AWS --password-stdin ${repository}\n",
    "\n",
    "# Tag the local image with ECR image name\n",
    "docker tag ${container_name} ${image}\n",
    "\n",
    "# Finally, push the local docker image to ECR with the full ECR image name\n",
    "docker push ${image}"
   ]
  },
  {
   "cell_type": "code",
   "execution_count": null,
   "id": "5bd00fc9",
   "metadata": {},
   "outputs": [],
   "source": [
    "#!docker rmi $(docker images -q) -f"
   ]
  },
  {
   "cell_type": "markdown",
   "id": "cc341b47",
   "metadata": {},
   "source": [
    "## Deploy feature encoder as a SageMaker real time endpoint"
   ]
  },
  {
   "cell_type": "markdown",
   "id": "43aa0d60",
   "metadata": {},
   "source": [
    "### Imports "
   ]
  },
  {
   "cell_type": "code",
   "execution_count": null,
   "id": "8f64e59d",
   "metadata": {},
   "outputs": [],
   "source": [
    "from time import gmtime, strftime\n",
    "import sagemaker\n",
    "import datetime\n",
    "import boto3"
   ]
  },
  {
   "cell_type": "code",
   "execution_count": null,
   "id": "eb39dcad",
   "metadata": {},
   "outputs": [],
   "source": [
    "role = sagemaker.get_execution_role()\n",
    "session = sagemaker.Session()\n",
    "account = session.boto_session.client('sts').get_caller_identity()['Account']\n",
    "region = session.boto_session.region_name\n",
    "sagemaker_client = boto3.client('sagemaker', region_name=region)\n",
    "image_name = 'sagemaker_feature_encoder8'\n",
    "image_uri = f'{account}.dkr.ecr.{region}.amazonaws.com/{image_name}:latest'\n",
    "image_uri"
   ]
  },
  {
   "cell_type": "code",
   "execution_count": null,
   "id": "4f212f06",
   "metadata": {},
   "outputs": [],
   "source": [
    "current_timestamp = strftime(\"%Y-%m-%d-%H-%M-%S\", gmtime())\n",
    "model_name = f'feature-encoder-{current_timestamp}'"
   ]
  },
  {
   "cell_type": "code",
   "execution_count": null,
   "id": "09d89d04",
   "metadata": {},
   "outputs": [],
   "source": [
    "!tar -czf encoder.tar.gz -C ./data ."
   ]
  },
  {
   "cell_type": "code",
   "execution_count": null,
   "id": "bb7a69fc",
   "metadata": {},
   "outputs": [],
   "source": [
    "default_bucket = session.default_bucket()\n",
    "default_bucket"
   ]
  },
  {
   "cell_type": "code",
   "execution_count": null,
   "id": "742c92f9",
   "metadata": {},
   "outputs": [],
   "source": [
    "!aws s3 cp encoder.tar.gz s3://{default_bucket}/"
   ]
  },
  {
   "cell_type": "code",
   "execution_count": null,
   "id": "3acdb099",
   "metadata": {},
   "outputs": [],
   "source": [
    "model_artifacts_location = f's3://{default_bucket}/encoder.tar.gz'"
   ]
  },
  {
   "cell_type": "code",
   "execution_count": null,
   "id": "6de46626",
   "metadata": {},
   "outputs": [],
   "source": [
    "response = sagemaker_client.create_model(ModelName=model_name, \n",
    "                                         Containers=[{\n",
    "                                             \"Image\": image_uri, \n",
    "                                             \"Mode\": \"SingleModel\", \n",
    "                                             \"ModelDataUrl\": model_artifacts_location}], \n",
    "                                         ExecutionRoleArn=role)\n",
    "\n",
    "print(f'Model Arn: {response[\"ModelArn\"]}')"
   ]
  },
  {
   "cell_type": "code",
   "execution_count": null,
   "id": "a5b83410",
   "metadata": {},
   "outputs": [],
   "source": [
    "ep_config_name = \"sm-feature-encoder\" + strftime(\"%Y-%m-%d-%H-%M-%S\", gmtime())\n",
    "\n",
    "endpoint_config_response = sagemaker_client.create_endpoint_config(\n",
    "    EndpointConfigName=ep_config_name,\n",
    "    \n",
    "    \n",
    "    ProductionVariants=[\n",
    "        {\n",
    "            \"VariantName\": \"v1\",\n",
    "            \"ModelName\": model_name,\n",
    "            \"InstanceType\": \"ml.m5.xlarge\",\n",
    "            'InitialInstanceCount': 2,\n",
    "                        'InitialVariantWeight': 1,}\n",
    "    ]\n",
    ")\n",
    "\n",
    "print(\"Endpoint Configuration Arn: \" + endpoint_config_response[\"EndpointConfigArn\"])"
   ]
  },
  {
   "cell_type": "code",
   "execution_count": null,
   "id": "d98c6deb",
   "metadata": {},
   "outputs": [],
   "source": [
    "response = sagemaker_client.create_endpoint(\n",
    "              EndpointName       = ep_config_name + '1',\n",
    "              EndpointConfigName = ep_config_name)\n",
    "response"
   ]
  },
  {
   "cell_type": "code",
   "execution_count": null,
   "id": "434b31dd",
   "metadata": {},
   "outputs": [],
   "source": [
    "\n",
    "\n",
    "sagemaker_runtime = boto3.client(\"sagemaker-runtime\", region_name='us-east-1')\n",
    "\n"
   ]
  },
  {
   "cell_type": "code",
   "execution_count": null,
   "id": "c522b2e3",
   "metadata": {},
   "outputs": [],
   "source": [
    "%%time\n",
    "\n",
    "endpoint_name = ep_config_name + '1'\n",
    "response = sagemaker_runtime.invoke_endpoint(\n",
    "    EndpointName=endpoint_name,\n",
    "    Body=b\"10-19-2021,145,24,22,14,usa,65+\",\n",
    "    ContentType=\"text/csv\",\n",
    ")\n",
    "response"
   ]
  },
  {
   "cell_type": "code",
   "execution_count": null,
   "id": "07774b32",
   "metadata": {},
   "outputs": [],
   "source": [
    "\n",
    "\n",
    "predicted_label = response['Body'].read().decode('utf-8').strip()\n",
    "predicted_label\n",
    "\n"
   ]
  },
  {
   "cell_type": "code",
   "execution_count": null,
   "id": "89b0843b",
   "metadata": {},
   "outputs": [],
   "source": []
  },
  {
   "cell_type": "code",
   "execution_count": null,
   "id": "ccabd22e",
   "metadata": {},
   "outputs": [],
   "source": []
  },
  {
   "cell_type": "code",
   "execution_count": null,
   "id": "a3349b05",
   "metadata": {},
   "outputs": [],
   "source": []
  },
  {
   "cell_type": "code",
   "execution_count": null,
   "id": "6e29aff1",
   "metadata": {},
   "outputs": [],
   "source": []
  }
 ],
 "metadata": {
  "instance_type": "ml.t3.medium",
  "kernelspec": {
   "display_name": "Python 3 (Data Science)",
   "language": "python",
   "name": "python3__SAGEMAKER_INTERNAL__arn:aws:sagemaker:us-east-1:081325390199:image/datascience-1.0"
  },
  "language_info": {
   "codemirror_mode": {
    "name": "ipython",
    "version": 3
   },
   "file_extension": ".py",
   "mimetype": "text/x-python",
   "name": "python",
   "nbconvert_exporter": "python",
   "pygments_lexer": "ipython3",
   "version": "3.7.10"
  }
 },
 "nbformat": 4,
 "nbformat_minor": 5
}
