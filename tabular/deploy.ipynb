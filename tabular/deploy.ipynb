{
 "cells": [
  {
   "cell_type": "markdown",
   "id": "33ac9ba9-3040-428c-9d2d-7a4ecfce8b89",
   "metadata": {},
   "source": [
    "#### Prerequisite"
   ]
  },
  {
   "cell_type": "code",
   "execution_count": null,
   "id": "91ac7ffd-e868-45d6-b039-9e5ef158b43c",
   "metadata": {},
   "outputs": [],
   "source": [
    "!python -m pip install --upgrade pip"
   ]
  },
  {
   "cell_type": "markdown",
   "id": "9b9d5dbd-31e7-41c6-b5f9-d13759a650e7",
   "metadata": {},
   "source": [
    "#### Create a docker image\n",
    "\n",
    "This step can run in SageMaker classic notebook environment or in your own local environment with docker installed."
   ]
  },
  {
   "cell_type": "code",
   "execution_count": null,
   "id": "eb6ea1a5",
   "metadata": {},
   "outputs": [],
   "source": [
    "# Image name below preferably starts with the prefix `sagemaker`\n",
    "!docker build -t sagemaker_feature_encoder -f Dockerfile ."
   ]
  },
  {
   "cell_type": "markdown",
   "id": "3cd86870-173d-40fb-86bd-b24fed56a9e7",
   "metadata": {},
   "source": [
    "#### Push docker image from local to ECR"
   ]
  },
  {
   "cell_type": "code",
   "execution_count": null,
   "id": "a300a34b",
   "metadata": {},
   "outputs": [],
   "source": [
    "%%sh\n",
    "\n",
    "# Specify a name to your custom container\n",
    "container_name=sagemaker_feature_encoder  # should match name from previous cell\n",
    "echo \"Container Name: \" ${container_name}\n",
    "\n",
    "# Retreive AWS account ID\n",
    "account=$(aws sts get-caller-identity --query Account --output text)\n",
    "\n",
    "# Get the AWS region defined in the current configuration (default to us-east-1 if none defined)\n",
    "region=$(aws configure get region)\n",
    "region=${region:-us-east-1}\n",
    "\n",
    "echo \"Account: \" ${account}\n",
    "echo \"Region: \"${region}\n",
    "\n",
    "repository=\"${account}.dkr.ecr.${region}.amazonaws.com\"\n",
    "echo \"ECR Repository: \" ${repository}\n",
    "\n",
    "image=\"${account}.dkr.ecr.${region}.amazonaws.com/${container_name}:latest\"\n",
    "echo \"ECR Image URI: \" ${image}\n",
    "\n",
    "# If the ECR repository does not exist, create it.\n",
    "aws ecr describe-repositories --repository-names ${container_name} > /dev/null 2>&1\n",
    "if [ $? -ne 0 ]\n",
    "then\n",
    "aws ecr create-repository --repository-name ${container_name} > /dev/null\n",
    "fi\n",
    "\n",
    "# Get the login command from ECR and execute it directly\n",
    "aws ecr get-login-password --region ${region} | docker login --username AWS --password-stdin ${repository}\n",
    "\n",
    "# Tag the local image with ECR image name\n",
    "docker tag ${container_name} ${image}\n",
    "\n",
    "# Finally, push the local docker image to ECR with the full ECR image name\n",
    "docker push ${image}"
   ]
  },
  {
   "cell_type": "markdown",
   "id": "2268f9ba-8d74-4f71-ba20-c38ada2d59be",
   "metadata": {},
   "source": [
    "##### Uncomment and run the command below if your local images need to be cleaned."
   ]
  },
  {
   "cell_type": "code",
   "execution_count": null,
   "id": "5bd00fc9",
   "metadata": {},
   "outputs": [],
   "source": [
    "#!docker rmi $(docker images -q) -f"
   ]
  },
  {
   "cell_type": "markdown",
   "id": "cc341b47",
   "metadata": {},
   "source": [
    "## Deploy feature encoder as a SageMaker real time endpoint"
   ]
  },
  {
   "cell_type": "markdown",
   "id": "43aa0d60",
   "metadata": {},
   "source": [
    "#### Imports "
   ]
  },
  {
   "cell_type": "code",
   "execution_count": null,
   "id": "8f64e59d",
   "metadata": {},
   "outputs": [],
   "source": [
    "from time import gmtime, strftime\n",
    "import sagemaker\n",
    "import datetime\n",
    "import boto3"
   ]
  },
  {
   "cell_type": "markdown",
   "id": "942bacbf-d2a0-40ab-a9c7-e3f7cc070cfe",
   "metadata": {},
   "source": [
    "#### Essentials"
   ]
  },
  {
   "cell_type": "code",
   "execution_count": null,
   "id": "eb39dcad",
   "metadata": {},
   "outputs": [],
   "source": [
    "role = sagemaker.get_execution_role()\n",
    "session = sagemaker.Session()\n",
    "account = session.boto_session.client('sts').get_caller_identity()['Account']\n",
    "region = session.boto_session.region_name\n",
    "sagemaker_client = boto3.client('sagemaker', region_name=region)\n",
    "image_name = 'sagemaker_feature_encoder'\n",
    "image_uri = f'{account}.dkr.ecr.{region}.amazonaws.com/{image_name}:latest'\n",
    "current_timestamp = strftime(\"%Y-%m-%d-%H-%M-%S\", gmtime())"
   ]
  },
  {
   "cell_type": "markdown",
   "id": "759b4ad1-777d-4a5c-ba37-00eef9fd9374",
   "metadata": {},
   "source": [
    "#### Pack all encoders into a tar file and push to S3"
   ]
  },
  {
   "cell_type": "code",
   "execution_count": null,
   "id": "09d89d04",
   "metadata": {},
   "outputs": [],
   "source": [
    "!tar -czf encoder.tar.gz -C ./data ."
   ]
  },
  {
   "cell_type": "code",
   "execution_count": null,
   "id": "bb7a69fc",
   "metadata": {},
   "outputs": [],
   "source": [
    "default_bucket = session.default_bucket()\n",
    "default_bucket"
   ]
  },
  {
   "cell_type": "code",
   "execution_count": null,
   "id": "742c92f9",
   "metadata": {},
   "outputs": [],
   "source": [
    "!aws s3 cp encoder.tar.gz s3://{default_bucket}/"
   ]
  },
  {
   "cell_type": "markdown",
   "id": "3e146fea-0840-4309-8584-e163f9e2ebc0",
   "metadata": {},
   "source": [
    "#### Create a SageMaker model object"
   ]
  },
  {
   "cell_type": "code",
   "execution_count": null,
   "id": "a6d66e40-a854-49b0-984f-8ed0a1b4973d",
   "metadata": {},
   "outputs": [],
   "source": [
    "model_name = f'feature-encoder-{current_timestamp}'\n",
    "model_artifacts_location = f's3://{default_bucket}/encoder.tar.gz'"
   ]
  },
  {
   "cell_type": "code",
   "execution_count": null,
   "id": "3acdb099",
   "metadata": {},
   "outputs": [],
   "source": [
    "response = sagemaker_client.create_model(ModelName=model_name, \n",
    "                                         Containers=[{\n",
    "                                             'Image': image_uri, \n",
    "                                             'Mode': 'SingleModel', \n",
    "                                             'ModelDataUrl': model_artifacts_location}], \n",
    "                                         ExecutionRoleArn=role)\n",
    "response"
   ]
  },
  {
   "cell_type": "markdown",
   "id": "0fcfddce-2ca6-4af9-be29-774db0d8e2ba",
   "metadata": {},
   "source": [
    "#### Create a SageMaker endpoint configuration"
   ]
  },
  {
   "cell_type": "code",
   "execution_count": null,
   "id": "10926fe7-2c0a-4c94-83f3-ed0eaecfdb61",
   "metadata": {},
   "outputs": [],
   "source": [
    "endpoint_config_name = f'feature-encoder-{current_timestamp}'"
   ]
  },
  {
   "cell_type": "code",
   "execution_count": null,
   "id": "a5b83410",
   "metadata": {},
   "outputs": [],
   "source": [
    "response = sagemaker_client.create_endpoint_config(EndpointConfigName=endpoint_config_name, \n",
    "                                                   ProductionVariants=[{\n",
    "                                                       'VariantName': 'v1', \n",
    "                                                       'ModelName': model_name, \n",
    "                                                       'InstanceType': 'ml.m5.xlarge', \n",
    "                                                       'InitialInstanceCount': 2, \n",
    "                                                       'InitialVariantWeight': 1\n",
    "                                                   }])\n",
    "response"
   ]
  },
  {
   "cell_type": "markdown",
   "id": "320665de-24d5-41fe-9a3e-e5eb1130310d",
   "metadata": {},
   "source": [
    "#### Create a SageMaker endpoint"
   ]
  },
  {
   "cell_type": "code",
   "execution_count": null,
   "id": "4ea000e9-9264-41eb-b84d-d9fac6fdfb38",
   "metadata": {},
   "outputs": [],
   "source": [
    "endpoint_name = f'feature-encoder-{current_timestamp}'"
   ]
  },
  {
   "cell_type": "code",
   "execution_count": null,
   "id": "d98c6deb",
   "metadata": {},
   "outputs": [],
   "source": [
    "response = sagemaker_client.create_endpoint(EndpointName=endpoint_name, \n",
    "                                            EndpointConfigName=endpoint_config_name)\n",
    "response"
   ]
  },
  {
   "cell_type": "code",
   "execution_count": null,
   "id": "daf2079f-fbd8-40d1-9bfb-29e35964b0b8",
   "metadata": {},
   "outputs": [],
   "source": []
  },
  {
   "cell_type": "code",
   "execution_count": null,
   "id": "aa54a28a-9fde-4a7c-8423-682881066295",
   "metadata": {},
   "outputs": [],
   "source": []
  },
  {
   "cell_type": "code",
   "execution_count": null,
   "id": "434b31dd",
   "metadata": {},
   "outputs": [],
   "source": [
    "\n",
    "\n",
    "sagemaker_runtime = boto3.client(\"sagemaker-runtime\", region_name='us-east-1')\n",
    "\n"
   ]
  },
  {
   "cell_type": "code",
   "execution_count": null,
   "id": "c522b2e3",
   "metadata": {},
   "outputs": [],
   "source": [
    "%%time\n",
    "\n",
    "endpoint_name = ep_config_name + '1'\n",
    "response = sagemaker_runtime.invoke_endpoint(\n",
    "    EndpointName=endpoint_name,\n",
    "    Body=b\"10-19-2021,145,24,22,14,usa,65+\",\n",
    "    ContentType=\"text/csv\",\n",
    ")\n",
    "response"
   ]
  },
  {
   "cell_type": "code",
   "execution_count": null,
   "id": "07774b32",
   "metadata": {},
   "outputs": [],
   "source": [
    "\n",
    "\n",
    "predicted_label = response['Body'].read().decode('utf-8').strip()\n",
    "predicted_label\n",
    "\n"
   ]
  }
 ],
 "metadata": {
  "instance_type": "ml.t3.medium",
  "kernelspec": {
   "display_name": "Python 3 (Data Science)",
   "language": "python",
   "name": "python3__SAGEMAKER_INTERNAL__arn:aws:sagemaker:us-east-1:081325390199:image/datascience-1.0"
  },
  "language_info": {
   "codemirror_mode": {
    "name": "ipython",
    "version": 3
   },
   "file_extension": ".py",
   "mimetype": "text/x-python",
   "name": "python",
   "nbconvert_exporter": "python",
   "pygments_lexer": "ipython3",
   "version": "3.7.10"
  }
 },
 "nbformat": 4,
 "nbformat_minor": 5
}
