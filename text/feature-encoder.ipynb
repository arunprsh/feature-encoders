{
 "cells": [
  {
   "cell_type": "markdown",
   "id": "f92603a6-ff60-4784-9bdd-6fd5f401fd9c",
   "metadata": {
    "tags": []
   },
   "source": [
    "#### Prerequisites"
   ]
  },
  {
   "cell_type": "code",
   "execution_count": null,
   "id": "6871c64e-d4b8-435d-bec0-8453c14c2e1d",
   "metadata": {
    "tags": []
   },
   "outputs": [],
   "source": [
    "%%capture\n",
    "\n",
    "!pip install transformers\n",
    "!pip install nltk"
   ]
  },
  {
   "cell_type": "markdown",
   "id": "442c2ac6-63cb-4e27-a706-e963d0901646",
   "metadata": {
    "tags": []
   },
   "source": [
    "#### Imports "
   ]
  },
  {
   "cell_type": "code",
   "execution_count": 2,
   "id": "fc6b28f4-c099-42e8-a2fe-e1fd80700927",
   "metadata": {
    "tags": []
   },
   "outputs": [],
   "source": [
    "from transformers import BertModel, BertTokenizerFast\n",
    "import transformers\n",
    "import logging\n",
    "import torch\n",
    "import nltk"
   ]
  },
  {
   "cell_type": "markdown",
   "id": "19dca7bc-41cf-410b-a8aa-7f351643afb4",
   "metadata": {},
   "source": [
    "#### Setup logging"
   ]
  },
  {
   "cell_type": "code",
   "execution_count": 3,
   "id": "e5c1fbfa-0349-4611-a057-fffe8c35e741",
   "metadata": {
    "tags": []
   },
   "outputs": [],
   "source": [
    "logger = logging.getLogger('sagemaker')\n",
    "logger.setLevel(logging.DEBUG)\n",
    "logger.addHandler(logging.StreamHandler())"
   ]
  },
  {
   "cell_type": "code",
   "execution_count": 4,
   "id": "938ee623-d5bf-4c11-9bf5-25bc7e86b014",
   "metadata": {
    "tags": []
   },
   "outputs": [
    {
     "name": "stderr",
     "output_type": "stream",
     "text": [
      "Using Transformers: 4.18.0\n",
      "Using Torch: 1.8.1\n",
      "Using NLTK: 3.6.7\n"
     ]
    }
   ],
   "source": [
    "logger.info(f'Using Transformers: {transformers.__version__}')\n",
    "logger.info(f'Using Torch: {torch.__version__}')\n",
    "logger.info(f'Using NLTK: {nltk.__version__}')"
   ]
  },
  {
   "cell_type": "markdown",
   "id": "5adb9899-1e4e-4b95-a1fb-d094ee69d583",
   "metadata": {},
   "source": [
    "#### Load BERT and NLTK tokenizers"
   ]
  },
  {
   "cell_type": "code",
   "execution_count": 5,
   "id": "e4c7c59d-ca63-4a53-ad2d-e1b7cf5a3f97",
   "metadata": {
    "tags": []
   },
   "outputs": [],
   "source": [
    "bert_tokenizer = BertTokenizerFast.from_pretrained('bert-base-uncased')"
   ]
  },
  {
   "cell_type": "code",
   "execution_count": 7,
   "id": "60531652-74a9-4155-9a1f-df632614028d",
   "metadata": {
    "tags": []
   },
   "outputs": [
    {
     "data": {
      "text/plain": [
       "['Great product.', 'Good design.', 'But a little pricey!']"
      ]
     },
     "execution_count": 7,
     "metadata": {},
     "output_type": "execute_result"
    }
   ],
   "source": [
    "sent_tokenizer = nltk.load('./data/english.pickle')"
   ]
  },
  {
   "cell_type": "markdown",
   "id": "3cfbf691-6619-4570-8cb6-1947700f6c16",
   "metadata": {},
   "source": [
    "#### Tokenize text to sentences and tokens"
   ]
  },
  {
   "cell_type": "code",
   "execution_count": null,
   "id": "1c3f6be0-fdf1-4af8-b062-f98e673a6220",
   "metadata": {},
   "outputs": [],
   "source": [
    "text = \"Great product. Good design. But a little pricey!\""
   ]
  },
  {
   "cell_type": "code",
   "execution_count": null,
   "id": "14fc2050-c507-4e6a-bc19-4fae73492dfe",
   "metadata": {},
   "outputs": [],
   "source": [
    "sentences = sent_tokenizer.tokenize(text)\n",
    "sentences"
   ]
  },
  {
   "cell_type": "code",
   "execution_count": 8,
   "id": "d7f997f1-7b1f-454f-9467-2d96b1e2c44b",
   "metadata": {
    "tags": []
   },
   "outputs": [
    {
     "data": {
      "text/plain": [
       "['great', 'product', '.']"
      ]
     },
     "execution_count": 8,
     "metadata": {},
     "output_type": "execute_result"
    }
   ],
   "source": [
    "tokens = bert_tokenizer.tokenize(sentences[0])\n",
    "tokens"
   ]
  },
  {
   "cell_type": "code",
   "execution_count": 9,
   "id": "ec52c706-11f4-43e6-a1c8-bedae06e37c4",
   "metadata": {
    "tags": []
   },
   "outputs": [
    {
     "data": {
      "text/plain": [
       "[2307, 4031, 1012]"
      ]
     },
     "execution_count": 9,
     "metadata": {},
     "output_type": "execute_result"
    }
   ],
   "source": [
    "input_ids = bert_tokenizer.convert_tokens_to_ids(tokens)\n",
    "input_ids"
   ]
  },
  {
   "cell_type": "markdown",
   "id": "7a5494e1-756f-4036-9be2-fc4428f12877",
   "metadata": {
    "tags": []
   },
   "source": [
    "##### BERT has 2 constraints\n",
    "* All sentences must be padded or truncated to a fixed length\n",
    "* Max sentence length is 512 tokens"
   ]
  },
  {
   "cell_type": "markdown",
   "id": "d0cf7772-db00-46e7-b62f-e95530a5defe",
   "metadata": {},
   "source": [
    "#### Determine the max tokens length"
   ]
  },
  {
   "cell_type": "code",
   "execution_count": 10,
   "id": "5d1b9688-b52d-499d-bf4a-85c099542e54",
   "metadata": {
    "tags": []
   },
   "outputs": [
    {
     "data": {
      "text/plain": [
       "8"
      ]
     },
     "execution_count": 10,
     "metadata": {},
     "output_type": "execute_result"
    }
   ],
   "source": [
    "max_len = 0\n",
    "for sentence in sentences:\n",
    "    input_ids = bert_tokenizer.encode(sentence, add_special_tokens=True)\n",
    "    max_len = max(max_len, len(input_ids))\n",
    "max_len"
   ]
  },
  {
   "cell_type": "markdown",
   "id": "876af144-f251-46c3-baed-eba992efdbf9",
   "metadata": {},
   "source": [
    "#### Encode sentences"
   ]
  },
  {
   "cell_type": "code",
   "execution_count": 11,
   "id": "a44edbb7-0cfc-4f92-95fa-82a007806ff7",
   "metadata": {},
   "outputs": [],
   "source": [
    "input_ids = []\n",
    "attention_masks = []"
   ]
  },
  {
   "cell_type": "code",
   "execution_count": 12,
   "id": "a0b596ea-eb88-45ee-90f9-ffc694745c93",
   "metadata": {},
   "outputs": [],
   "source": [
    "for sentence in sentences:\n",
    "    encoded_dict = bert_tokenizer.encode_plus(sentence, \n",
    "                                              add_special_tokens=True,\n",
    "                                              max_length=max_len,\n",
    "                                              padding='max_length',\n",
    "                                              return_attention_mask=True,\n",
    "                                              return_tensors='pt',\n",
    "                                              truncation=True)\n",
    "    input_ids.append(encoded_dict['input_ids'])\n",
    "    attention_masks.append(encoded_dict['attention_mask'])"
   ]
  },
  {
   "cell_type": "code",
   "execution_count": 13,
   "id": "448226c6-27d0-4579-881f-ce1bec1622c7",
   "metadata": {
    "tags": []
   },
   "outputs": [
    {
     "data": {
      "text/plain": [
       "[tensor([[ 101, 2307, 4031, 1012,  102,    0,    0,    0]]),\n",
       " tensor([[ 101, 2204, 2640, 1012,  102,    0,    0,    0]]),\n",
       " tensor([[ 101, 2021, 1037, 2210, 3976, 2100,  999,  102]])]"
      ]
     },
     "execution_count": 13,
     "metadata": {},
     "output_type": "execute_result"
    }
   ],
   "source": [
    "input_ids"
   ]
  },
  {
   "cell_type": "code",
   "execution_count": 14,
   "id": "916a7788-80d9-4fff-98ae-c01d588bd90b",
   "metadata": {
    "tags": []
   },
   "outputs": [
    {
     "data": {
      "text/plain": [
       "[tensor([[1, 1, 1, 1, 1, 0, 0, 0]]),\n",
       " tensor([[1, 1, 1, 1, 1, 0, 0, 0]]),\n",
       " tensor([[1, 1, 1, 1, 1, 1, 1, 1]])]"
      ]
     },
     "execution_count": 14,
     "metadata": {},
     "output_type": "execute_result"
    }
   ],
   "source": [
    "attention_masks"
   ]
  },
  {
   "cell_type": "code",
   "execution_count": 15,
   "id": "dfd2eda6-1ad4-4606-993b-bb2b17257870",
   "metadata": {
    "tags": []
   },
   "outputs": [],
   "source": [
    "input_ids = torch.cat(input_ids, dim=0)\n",
    "attention_masks = torch.cat(attention_masks, dim=0)"
   ]
  },
  {
   "cell_type": "code",
   "execution_count": 16,
   "id": "620d91d8-74f6-489d-b667-798861c9421d",
   "metadata": {
    "tags": []
   },
   "outputs": [
    {
     "data": {
      "text/plain": [
       "tensor([[ 101, 2307, 4031, 1012,  102,    0,    0,    0],\n",
       "        [ 101, 2204, 2640, 1012,  102,    0,    0,    0],\n",
       "        [ 101, 2021, 1037, 2210, 3976, 2100,  999,  102]])"
      ]
     },
     "execution_count": 16,
     "metadata": {},
     "output_type": "execute_result"
    }
   ],
   "source": [
    "input_ids"
   ]
  },
  {
   "cell_type": "markdown",
   "id": "ce35cdb7-11b0-43cc-9d8e-c2df735ee2e8",
   "metadata": {},
   "source": [
    "#### Load BERT model"
   ]
  },
  {
   "cell_type": "code",
   "execution_count": 17,
   "id": "3be65c05-d522-4cdf-956f-23cb37e5ac02",
   "metadata": {
    "tags": []
   },
   "outputs": [
    {
     "name": "stderr",
     "output_type": "stream",
     "text": [
      "Some weights of the model checkpoint at bert-base-uncased were not used when initializing BertModel: ['cls.predictions.decoder.weight', 'cls.predictions.transform.dense.weight', 'cls.predictions.transform.LayerNorm.weight', 'cls.predictions.transform.dense.bias', 'cls.predictions.transform.LayerNorm.bias', 'cls.predictions.bias', 'cls.seq_relationship.weight', 'cls.seq_relationship.bias']\n",
      "- This IS expected if you are initializing BertModel from the checkpoint of a model trained on another task or with another architecture (e.g. initializing a BertForSequenceClassification model from a BertForPreTraining model).\n",
      "- This IS NOT expected if you are initializing BertModel from the checkpoint of a model that you expect to be exactly identical (initializing a BertForSequenceClassification model from a BertForSequenceClassification model).\n"
     ]
    }
   ],
   "source": [
    "model = BertModel.from_pretrained('bert-base-uncased')"
   ]
  },
  {
   "cell_type": "markdown",
   "id": "a34a2bf1-4344-4190-98a1-66f0b71f81b2",
   "metadata": {},
   "source": [
    "#### Get last hidden state"
   ]
  },
  {
   "cell_type": "code",
   "execution_count": 18,
   "id": "aefdc6a6-e8e0-4760-9571-ad2cc617bb9b",
   "metadata": {
    "tags": []
   },
   "outputs": [
    {
     "name": "stdout",
     "output_type": "stream",
     "text": [
      "[2022-12-16 17:28:50.281 pytorch-1-8-gpu-py-ml-g4dn-4xlarge-ebd0c963d7cb3d49c063789f9c22:1409 INFO utils.py:27] RULE_JOB_STOP_SIGNAL_FILENAME: None\n",
      "[2022-12-16 17:28:50.370 pytorch-1-8-gpu-py-ml-g4dn-4xlarge-ebd0c963d7cb3d49c063789f9c22:1409 INFO profiler_config_parser.py:102] Unable to find config at /opt/ml/input/config/profilerconfig.json. Profiler is disabled.\n"
     ]
    }
   ],
   "source": [
    "with torch.no_grad():\n",
    "    outputs = model(input_ids, attention_mask=attention_masks)"
   ]
  },
  {
   "cell_type": "code",
   "execution_count": 19,
   "id": "c9d8720a-bf94-4105-a93c-76ad2006e90b",
   "metadata": {
    "tags": []
   },
   "outputs": [
    {
     "data": {
      "text/plain": [
       "tensor([[-0.3160,  0.1158, -0.3213,  ..., -0.2726,  0.3246,  0.2845],\n",
       "        [-0.2732,  0.1145, -0.2756,  ..., -0.2125,  0.0405,  0.6684],\n",
       "        [-0.2529,  0.1539, -0.4362,  ..., -0.0796,  0.1113,  0.4073]])"
      ]
     },
     "execution_count": 19,
     "metadata": {},
     "output_type": "execute_result"
    }
   ],
   "source": [
    "last_hidden_state = outputs.last_hidden_state[:, 0, :]\n",
    "last_hidden_state"
   ]
  },
  {
   "cell_type": "code",
   "execution_count": 20,
   "id": "e270e3af-5139-4a3d-9a25-8e956df5d542",
   "metadata": {},
   "outputs": [
    {
     "data": {
      "text/plain": [
       "torch.Size([3, 768])"
      ]
     },
     "execution_count": 20,
     "metadata": {},
     "output_type": "execute_result"
    }
   ],
   "source": [
    "last_hidden_state.shape"
   ]
  },
  {
   "cell_type": "markdown",
   "id": "d7180aa4-6936-4b09-bbb7-035309bf85da",
   "metadata": {},
   "source": [
    "#### Compute output vector"
   ]
  },
  {
   "cell_type": "code",
   "execution_count": 21,
   "id": "beace1d0-15d7-4ba2-8750-24409b3cc789",
   "metadata": {},
   "outputs": [],
   "source": [
    "sentence_vectors = last_hidden_state.detach().numpy()"
   ]
  },
  {
   "cell_type": "code",
   "execution_count": 22,
   "id": "d57dd932-92ef-44ca-8454-e8f539a7803a",
   "metadata": {},
   "outputs": [
    {
     "data": {
      "text/plain": [
       "array([[-0.31601778,  0.11579025, -0.32130766, ..., -0.27264526,\n",
       "         0.32456014,  0.2845447 ],\n",
       "       [-0.27318975,  0.11449272, -0.27562585, ..., -0.21247703,\n",
       "         0.04046102,  0.66837615],\n",
       "       [-0.25293225,  0.15385807, -0.43620795, ..., -0.07957672,\n",
       "         0.11127631,  0.4073293 ]], dtype=float32)"
      ]
     },
     "execution_count": 22,
     "metadata": {},
     "output_type": "execute_result"
    }
   ],
   "source": [
    "sentence_vectors"
   ]
  },
  {
   "cell_type": "code",
   "execution_count": 30,
   "id": "1291d42a-29de-41e8-b9b2-0bd508bc42ee",
   "metadata": {},
   "outputs": [
    {
     "data": {
      "text/plain": [
       "768"
      ]
     },
     "execution_count": 30,
     "metadata": {},
     "output_type": "execute_result"
    }
   ],
   "source": [
    "paragraph_vector = sentence_vectors.mean(axis=0)  # mean of each column\n",
    "paragraph_vector = paragraph_vector.tolist()\n",
    "len(paragraph_vector)"
   ]
  }
 ],
 "metadata": {
  "forced_instance_type": "ml.t3.medium",
  "forced_lcc_arn": "",
  "instance_type": "ml.g4dn.4xlarge",
  "kernelspec": {
   "display_name": "Python 3 (PyTorch 1.8 Python 3.6 GPU Optimized)",
   "language": "python",
   "name": "python3__SAGEMAKER_INTERNAL__arn:aws:sagemaker:us-east-1:081325390199:image/pytorch-1.8-gpu-py36"
  },
  "language_info": {
   "codemirror_mode": {
    "name": "ipython",
    "version": 3
   },
   "file_extension": ".py",
   "mimetype": "text/x-python",
   "name": "python",
   "nbconvert_exporter": "python",
   "pygments_lexer": "ipython3",
   "version": "3.6.13"
  }
 },
 "nbformat": 4,
 "nbformat_minor": 5
}
