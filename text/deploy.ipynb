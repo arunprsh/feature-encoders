{
 "cells": [
  {
   "cell_type": "markdown",
   "id": "33ac9ba9-3040-428c-9d2d-7a4ecfce8b89",
   "metadata": {},
   "source": [
    "#### Prerequisite"
   ]
  },
  {
   "cell_type": "code",
   "execution_count": 1,
   "id": "91ac7ffd-e868-45d6-b039-9e5ef158b43c",
   "metadata": {},
   "outputs": [
    {
     "name": "stdout",
     "output_type": "stream",
     "text": [
      "Looking in indexes: https://pypi.org/simple, https://pip.repos.neuron.amazonaws.com\r\n",
      "Requirement already satisfied: pip in /home/ec2-user/anaconda3/envs/python3/lib/python3.8/site-packages (22.3.1)\r\n"
     ]
    }
   ],
   "source": [
    "!python -m pip install --upgrade pip"
   ]
  },
  {
   "cell_type": "markdown",
   "id": "9b9d5dbd-31e7-41c6-b5f9-d13759a650e7",
   "metadata": {},
   "source": [
    "#### Create a docker image\n",
    "\n",
    "This step can run in SageMaker classic notebook environment or in your own local environment with docker installed."
   ]
  },
  {
   "cell_type": "code",
   "execution_count": 2,
   "id": "eb6ea1a5",
   "metadata": {},
   "outputs": [
    {
     "name": "stdout",
     "output_type": "stream",
     "text": [
      "Sending build context to Docker daemon  1.443MB\n",
      "Step 1/7 : FROM python:3.7\n",
      " ---> 5cda39795abb\n",
      "Step 2/7 : COPY requirements.txt ./\n",
      " ---> 1588774ea606\n",
      "Step 3/7 : RUN python -m pip install --upgrade pip\n",
      " ---> Running in 071f33c43e81\n",
      "Requirement already satisfied: pip in /usr/local/lib/python3.7/site-packages (22.0.4)\n",
      "Collecting pip\n",
      "  Downloading pip-22.3.1-py3-none-any.whl (2.1 MB)\n",
      "     ━━━━━━━━━━━━━━━━━━━━━━━━━━━━━━━━━━━━━━━━ 2.1/2.1 MB 67.0 MB/s eta 0:00:00\n",
      "Installing collected packages: pip\n",
      "  Attempting uninstall: pip\n",
      "    Found existing installation: pip 22.0.4\n",
      "    Uninstalling pip-22.0.4:\n",
      "      Successfully uninstalled pip-22.0.4\n",
      "Successfully installed pip-22.3.1\n",
      "\u001b[91mWARNING: Running pip as the 'root' user can result in broken permissions and conflicting behaviour with the system package manager. It is recommended to use a virtual environment instead: https://pip.pypa.io/warnings/venv\n",
      "\u001b[0mRemoving intermediate container 071f33c43e81\n",
      " ---> 9785af30ece0\n",
      "Step 4/7 : RUN pip install --no-cache-dir -r requirements.txt\n",
      " ---> Running in 8a91fce1a47b\n",
      "Collecting torch==1.8.1\n",
      "  Downloading torch-1.8.1-cp37-cp37m-manylinux1_x86_64.whl (804.1 MB)\n",
      "     ━━━━━━━━━━━━━━━━━━━━━━━━━━━━━━━━━━━━━ 804.1/804.1 MB 163.8 MB/s eta 0:00:00\n",
      "Collecting transformers==4.18.0\n",
      "  Downloading transformers-4.18.0-py3-none-any.whl (4.0 MB)\n",
      "     ━━━━━━━━━━━━━━━━━━━━━━━━━━━━━━━━━━━━━━━━ 4.0/4.0 MB 185.2 MB/s eta 0:00:00\n",
      "Collecting nltk==3.6.7\n",
      "  Downloading nltk-3.6.7-py3-none-any.whl (1.5 MB)\n",
      "     ━━━━━━━━━━━━━━━━━━━━━━━━━━━━━━━━━━━━━━━━ 1.5/1.5 MB 264.1 MB/s eta 0:00:00\n",
      "Collecting flask==2.2.2\n",
      "  Downloading Flask-2.2.2-py3-none-any.whl (101 kB)\n",
      "     ━━━━━━━━━━━━━━━━━━━━━━━━━━━━━━━━━━━━━ 101.5/101.5 kB 218.7 MB/s eta 0:00:00\n",
      "Collecting numpy\n",
      "  Downloading numpy-1.21.6-cp37-cp37m-manylinux_2_12_x86_64.manylinux2010_x86_64.whl (15.7 MB)\n",
      "     ━━━━━━━━━━━━━━━━━━━━━━━━━━━━━━━━━━━━━━━ 15.7/15.7 MB 188.1 MB/s eta 0:00:00\n",
      "Collecting typing-extensions\n",
      "  Downloading typing_extensions-4.4.0-py3-none-any.whl (26 kB)\n",
      "Collecting tokenizers!=0.11.3,<0.13,>=0.11.1\n",
      "  Downloading tokenizers-0.12.1-cp37-cp37m-manylinux_2_12_x86_64.manylinux2010_x86_64.whl (6.6 MB)\n",
      "     ━━━━━━━━━━━━━━━━━━━━━━━━━━━━━━━━━━━━━━━━ 6.6/6.6 MB 159.2 MB/s eta 0:00:00\n",
      "Collecting packaging>=20.0\n",
      "  Downloading packaging-22.0-py3-none-any.whl (42 kB)\n",
      "     ━━━━━━━━━━━━━━━━━━━━━━━━━━━━━━━━━━━━━━━ 42.6/42.6 kB 167.4 MB/s eta 0:00:00\n",
      "Collecting tqdm>=4.27\n",
      "  Downloading tqdm-4.64.1-py2.py3-none-any.whl (78 kB)\n",
      "     ━━━━━━━━━━━━━━━━━━━━━━━━━━━━━━━━━━━━━━━ 78.5/78.5 kB 211.0 MB/s eta 0:00:00\n",
      "Collecting importlib-metadata\n",
      "  Downloading importlib_metadata-5.1.0-py3-none-any.whl (21 kB)\n",
      "Collecting requests\n",
      "  Downloading requests-2.28.1-py3-none-any.whl (62 kB)\n",
      "     ━━━━━━━━━━━━━━━━━━━━━━━━━━━━━━━━━━━━━━━ 62.8/62.8 kB 196.2 MB/s eta 0:00:00\n",
      "Collecting huggingface-hub<1.0,>=0.1.0\n",
      "  Downloading huggingface_hub-0.11.1-py3-none-any.whl (182 kB)\n",
      "     ━━━━━━━━━━━━━━━━━━━━━━━━━━━━━━━━━━━━━ 182.4/182.4 kB 251.1 MB/s eta 0:00:00\n",
      "Collecting regex!=2019.12.17\n",
      "  Downloading regex-2022.10.31-cp37-cp37m-manylinux_2_17_x86_64.manylinux2014_x86_64.whl (757 kB)\n",
      "     ━━━━━━━━━━━━━━━━━━━━━━━━━━━━━━━━━━━━━ 757.1/757.1 kB 253.7 MB/s eta 0:00:00\n",
      "Collecting filelock\n",
      "  Downloading filelock-3.8.2-py3-none-any.whl (10 kB)\n",
      "Collecting sacremoses\n",
      "  Downloading sacremoses-0.0.53.tar.gz (880 kB)\n",
      "     ━━━━━━━━━━━━━━━━━━━━━━━━━━━━━━━━━━━━━ 880.6/880.6 kB 170.4 MB/s eta 0:00:00\n",
      "  Preparing metadata (setup.py): started\n",
      "  Preparing metadata (setup.py): finished with status 'done'\n",
      "Collecting pyyaml>=5.1\n",
      "  Downloading PyYAML-6.0-cp37-cp37m-manylinux_2_5_x86_64.manylinux1_x86_64.manylinux_2_12_x86_64.manylinux2010_x86_64.whl (596 kB)\n",
      "     ━━━━━━━━━━━━━━━━━━━━━━━━━━━━━━━━━━━━━ 596.3/596.3 kB 209.8 MB/s eta 0:00:00\n",
      "Collecting click\n",
      "  Downloading click-8.1.3-py3-none-any.whl (96 kB)\n",
      "     ━━━━━━━━━━━━━━━━━━━━━━━━━━━━━━━━━━━━━━━ 96.6/96.6 kB 173.7 MB/s eta 0:00:00\n",
      "Collecting joblib\n",
      "  Downloading joblib-1.2.0-py3-none-any.whl (297 kB)\n",
      "     ━━━━━━━━━━━━━━━━━━━━━━━━━━━━━━━━━━━━━ 298.0/298.0 kB 186.4 MB/s eta 0:00:00\n",
      "Collecting Werkzeug>=2.2.2\n",
      "  Downloading Werkzeug-2.2.2-py3-none-any.whl (232 kB)\n",
      "     ━━━━━━━━━━━━━━━━━━━━━━━━━━━━━━━━━━━━━ 232.7/232.7 kB 214.5 MB/s eta 0:00:00\n",
      "Collecting itsdangerous>=2.0\n",
      "  Downloading itsdangerous-2.1.2-py3-none-any.whl (15 kB)\n",
      "Collecting Jinja2>=3.0\n",
      "  Downloading Jinja2-3.1.2-py3-none-any.whl (133 kB)\n",
      "     ━━━━━━━━━━━━━━━━━━━━━━━━━━━━━━━━━━━━━ 133.1/133.1 kB 178.2 MB/s eta 0:00:00\n",
      "Collecting zipp>=0.5\n",
      "  Downloading zipp-3.11.0-py3-none-any.whl (6.6 kB)\n",
      "Collecting MarkupSafe>=2.0\n",
      "  Downloading MarkupSafe-2.1.1-cp37-cp37m-manylinux_2_17_x86_64.manylinux2014_x86_64.whl (25 kB)\n",
      "Collecting certifi>=2017.4.17\n",
      "  Downloading certifi-2022.12.7-py3-none-any.whl (155 kB)\n",
      "     ━━━━━━━━━━━━━━━━━━━━━━━━━━━━━━━━━━━━━ 155.3/155.3 kB 169.6 MB/s eta 0:00:00\n",
      "Collecting idna<4,>=2.5\n",
      "  Downloading idna-3.4-py3-none-any.whl (61 kB)\n",
      "     ━━━━━━━━━━━━━━━━━━━━━━━━━━━━━━━━━━━━━━━ 61.5/61.5 kB 157.6 MB/s eta 0:00:00\n",
      "Collecting urllib3<1.27,>=1.21.1\n",
      "  Downloading urllib3-1.26.13-py2.py3-none-any.whl (140 kB)\n",
      "     ━━━━━━━━━━━━━━━━━━━━━━━━━━━━━━━━━━━━━ 140.6/140.6 kB 181.0 MB/s eta 0:00:00\n",
      "Collecting charset-normalizer<3,>=2\n",
      "  Downloading charset_normalizer-2.1.1-py3-none-any.whl (39 kB)\n",
      "Collecting six\n",
      "  Downloading six-1.16.0-py2.py3-none-any.whl (11 kB)\n",
      "Building wheels for collected packages: sacremoses\n",
      "  Building wheel for sacremoses (setup.py): started\n",
      "  Building wheel for sacremoses (setup.py): finished with status 'done'\n",
      "  Created wheel for sacremoses: filename=sacremoses-0.0.53-py3-none-any.whl size=895260 sha256=c42fd1b13fc17df065b2d08995462dde9585c278d7df9afd7c8126a94ce52f2a\n",
      "  Stored in directory: /tmp/pip-ephem-wheel-cache-8vik2ygo/wheels/5b/e0/77/05245143a5b31f65af6a21f7afd3219e9fa4896f918af45677\n",
      "Successfully built sacremoses\n",
      "Installing collected packages: tokenizers, zipp, urllib3, typing-extensions, tqdm, six, regex, pyyaml, packaging, numpy, MarkupSafe, joblib, itsdangerous, idna, filelock, charset-normalizer, certifi, Werkzeug, torch, requests, Jinja2, importlib-metadata, huggingface-hub, click, sacremoses, nltk, flask, transformers\n",
      "Successfully installed Jinja2-3.1.2 MarkupSafe-2.1.1 Werkzeug-2.2.2 certifi-2022.12.7 charset-normalizer-2.1.1 click-8.1.3 filelock-3.8.2 flask-2.2.2 huggingface-hub-0.11.1 idna-3.4 importlib-metadata-5.1.0 itsdangerous-2.1.2 joblib-1.2.0 nltk-3.6.7 numpy-1.21.6 packaging-22.0 pyyaml-6.0 regex-2022.10.31 requests-2.28.1 sacremoses-0.0.53 six-1.16.0 tokenizers-0.12.1 torch-1.8.1 tqdm-4.64.1 transformers-4.18.0 typing-extensions-4.4.0 urllib3-1.26.13 zipp-3.11.0\n",
      "\u001b[91mWARNING: Running pip as the 'root' user can result in broken permissions and conflicting behaviour with the system package manager. It is recommended to use a virtual environment instead: https://pip.pypa.io/warnings/venv\n",
      "\u001b[0mRemoving intermediate container 8a91fce1a47b\n",
      " ---> 43f90ccb97ea\n",
      "Step 5/7 : COPY serve /usr/local/bin\n",
      " ---> 718d4180f98b\n",
      "Step 6/7 : RUN chmod +x /usr/local/bin/serve\n",
      " ---> Running in ebf3329647ec\n",
      "Removing intermediate container ebf3329647ec\n",
      " ---> cc551675acc3\n",
      "Step 7/7 : EXPOSE 8080\n",
      " ---> Running in c2444d6be214\n",
      "Removing intermediate container c2444d6be214\n",
      " ---> d722ce563cc8\n",
      "Successfully built d722ce563cc8\n",
      "Successfully tagged sagemaker_text_encoder:latest\n"
     ]
    }
   ],
   "source": [
    "# Image name below preferably starts with the prefix `sagemaker`\n",
    "!docker build -t sagemaker_text_encoder -f Dockerfile ."
   ]
  },
  {
   "cell_type": "markdown",
   "id": "3cd86870-173d-40fb-86bd-b24fed56a9e7",
   "metadata": {},
   "source": [
    "#### Push docker image from local to ECR"
   ]
  },
  {
   "cell_type": "code",
   "execution_count": 3,
   "id": "a300a34b",
   "metadata": {},
   "outputs": [
    {
     "name": "stdout",
     "output_type": "stream",
     "text": [
      "Container Name:  sagemaker_text_encoder\n",
      "Account:  119174016168\n",
      "Region: us-east-1\n",
      "ECR Repository:  119174016168.dkr.ecr.us-east-1.amazonaws.com\n",
      "ECR Image URI:  119174016168.dkr.ecr.us-east-1.amazonaws.com/sagemaker_text_encoder:latest\n",
      "Login Succeeded\n",
      "The push refers to repository [119174016168.dkr.ecr.us-east-1.amazonaws.com/sagemaker_text_encoder]\n",
      "7b4903b5f373: Preparing\n",
      "d88ab4d0756e: Preparing\n",
      "e755b640ef85: Preparing\n",
      "64c5ff71ede4: Preparing\n",
      "ffc335b17c21: Preparing\n",
      "eef135e35b6e: Preparing\n",
      "a0db21004f62: Preparing\n",
      "0b53caaeb40b: Preparing\n",
      "1cad4dc57058: Preparing\n",
      "4ff8844d474a: Preparing\n",
      "b77487480ddb: Preparing\n",
      "cd247c0fb37b: Preparing\n",
      "cfdd5c3bd77e: Preparing\n",
      "870a241bfebd: Preparing\n",
      "0b53caaeb40b: Waiting\n",
      "1cad4dc57058: Waiting\n",
      "4ff8844d474a: Waiting\n",
      "b77487480ddb: Waiting\n",
      "cd247c0fb37b: Waiting\n",
      "cfdd5c3bd77e: Waiting\n",
      "870a241bfebd: Waiting\n",
      "eef135e35b6e: Waiting\n",
      "a0db21004f62: Waiting\n",
      "d88ab4d0756e: Pushed\n",
      "ffc335b17c21: Pushed\n",
      "7b4903b5f373: Pushed\n",
      "a0db21004f62: Pushed\n",
      "64c5ff71ede4: Pushed\n",
      "eef135e35b6e: Pushed\n",
      "1cad4dc57058: Pushed\n",
      "0b53caaeb40b: Pushed\n",
      "cd247c0fb37b: Pushed\n",
      "cfdd5c3bd77e: Pushed\n",
      "b77487480ddb: Pushed\n",
      "870a241bfebd: Pushed\n",
      "4ff8844d474a: Pushed\n",
      "e755b640ef85: Pushed\n",
      "latest: digest: sha256:6b12fb21ef78bb5f6a7a7bb71af2007272c578d7b9a4c343f4bd77ea0a7058c6 size: 3266\n"
     ]
    },
    {
     "name": "stderr",
     "output_type": "stream",
     "text": [
      "WARNING! Your password will be stored unencrypted in /home/ec2-user/.docker/config.json.\n",
      "Configure a credential helper to remove this warning. See\n",
      "https://docs.docker.com/engine/reference/commandline/login/#credentials-store\n",
      "\n"
     ]
    }
   ],
   "source": [
    "%%sh\n",
    "\n",
    "# Specify a name to your custom container\n",
    "container_name=sagemaker_text_encoder  # should match name from previous cell\n",
    "echo \"Container Name: \" ${container_name}\n",
    "\n",
    "# Retreive AWS account ID\n",
    "account=$(aws sts get-caller-identity --query Account --output text)\n",
    "\n",
    "# Get the AWS region defined in the current configuration (default to us-east-1 if none defined)\n",
    "region=$(aws configure get region)\n",
    "region=${region:-us-east-1}\n",
    "\n",
    "echo \"Account: \" ${account}\n",
    "echo \"Region: \"${region}\n",
    "\n",
    "repository=\"${account}.dkr.ecr.${region}.amazonaws.com\"\n",
    "echo \"ECR Repository: \" ${repository}\n",
    "\n",
    "image=\"${account}.dkr.ecr.${region}.amazonaws.com/${container_name}:latest\"\n",
    "echo \"ECR Image URI: \" ${image}\n",
    "\n",
    "# If the ECR repository does not exist, create it.\n",
    "aws ecr describe-repositories --repository-names ${container_name} > /dev/null 2>&1\n",
    "if [ $? -ne 0 ]\n",
    "then\n",
    "aws ecr create-repository --repository-name ${container_name} > /dev/null\n",
    "fi\n",
    "\n",
    "# Get the login command from ECR and execute it directly\n",
    "aws ecr get-login-password --region ${region} | docker login --username AWS --password-stdin ${repository}\n",
    "\n",
    "# Tag the local image with ECR image name\n",
    "docker tag ${container_name} ${image}\n",
    "\n",
    "# Finally, push the local docker image to ECR with the full ECR image name\n",
    "docker push ${image}"
   ]
  },
  {
   "cell_type": "markdown",
   "id": "2268f9ba-8d74-4f71-ba20-c38ada2d59be",
   "metadata": {},
   "source": [
    "##### Uncomment and run the command below if your local images need to be cleaned."
   ]
  },
  {
   "cell_type": "code",
   "execution_count": 4,
   "id": "5bd00fc9",
   "metadata": {},
   "outputs": [],
   "source": [
    "#!docker rmi $(docker images -q) -f"
   ]
  },
  {
   "cell_type": "markdown",
   "id": "cc341b47",
   "metadata": {},
   "source": [
    "## Deploy feature encoder as a SageMaker real time endpoint"
   ]
  },
  {
   "cell_type": "markdown",
   "id": "43aa0d60",
   "metadata": {},
   "source": [
    "#### Imports "
   ]
  },
  {
   "cell_type": "code",
   "execution_count": 5,
   "id": "8f64e59d",
   "metadata": {},
   "outputs": [],
   "source": [
    "from time import gmtime, strftime\n",
    "import sagemaker\n",
    "import datetime\n",
    "import boto3\n",
    "import time"
   ]
  },
  {
   "cell_type": "markdown",
   "id": "942bacbf-d2a0-40ab-a9c7-e3f7cc070cfe",
   "metadata": {},
   "source": [
    "#### Essentials"
   ]
  },
  {
   "cell_type": "code",
   "execution_count": 6,
   "id": "eb39dcad",
   "metadata": {},
   "outputs": [],
   "source": [
    "role = sagemaker.get_execution_role()\n",
    "session = sagemaker.Session()\n",
    "account = session.boto_session.client('sts').get_caller_identity()['Account']\n",
    "region = session.boto_session.region_name\n",
    "sagemaker_client = boto3.client('sagemaker', region_name=region)\n",
    "image_name = 'sagemaker_text_encoder'\n",
    "image_uri = f'{account}.dkr.ecr.{region}.amazonaws.com/{image_name}:latest'\n",
    "current_timestamp = strftime(\"%Y-%m-%d-%H-%M-%S\", gmtime())"
   ]
  },
  {
   "cell_type": "markdown",
   "id": "759b4ad1-777d-4a5c-ba37-00eef9fd9374",
   "metadata": {},
   "source": [
    "#### Pack all encoders into a tar file and push to S3"
   ]
  },
  {
   "cell_type": "code",
   "execution_count": 9,
   "id": "09d89d04",
   "metadata": {},
   "outputs": [],
   "source": [
    "!tar -czf text-encoder.tar.gz -C ./data ."
   ]
  },
  {
   "cell_type": "code",
   "execution_count": 10,
   "id": "bb7a69fc",
   "metadata": {},
   "outputs": [
    {
     "data": {
      "text/plain": [
       "'sagemaker-us-east-1-119174016168'"
      ]
     },
     "execution_count": 10,
     "metadata": {},
     "output_type": "execute_result"
    }
   ],
   "source": [
    "default_bucket = session.default_bucket()\n",
    "default_bucket"
   ]
  },
  {
   "cell_type": "code",
   "execution_count": 11,
   "id": "742c92f9",
   "metadata": {},
   "outputs": [
    {
     "name": "stdout",
     "output_type": "stream",
     "text": [
      "upload: ./text-encoder.tar.gz to s3://sagemaker-us-east-1-119174016168/text-encoder.tar.gz\n"
     ]
    }
   ],
   "source": [
    "!aws s3 cp text-encoder.tar.gz s3://{default_bucket}/"
   ]
  },
  {
   "cell_type": "markdown",
   "id": "3e146fea-0840-4309-8584-e163f9e2ebc0",
   "metadata": {},
   "source": [
    "#### Create a SageMaker model object"
   ]
  },
  {
   "cell_type": "code",
   "execution_count": 14,
   "id": "a6d66e40-a854-49b0-984f-8ed0a1b4973d",
   "metadata": {},
   "outputs": [],
   "source": [
    "model_name = f'text-encoder-{current_timestamp}'\n",
    "model_artifacts_location = f's3://{default_bucket}/text-encoder.tar.gz'"
   ]
  },
  {
   "cell_type": "code",
   "execution_count": 15,
   "id": "3acdb099",
   "metadata": {},
   "outputs": [
    {
     "data": {
      "text/plain": [
       "{'ModelArn': 'arn:aws:sagemaker:us-east-1:119174016168:model/text-encoder-2022-12-16-19-35-54',\n",
       " 'ResponseMetadata': {'RequestId': '950330b0-d7a0-4de6-b87a-36e0c6d6f728',\n",
       "  'HTTPStatusCode': 200,\n",
       "  'HTTPHeaders': {'x-amzn-requestid': '950330b0-d7a0-4de6-b87a-36e0c6d6f728',\n",
       "   'content-type': 'application/x-amz-json-1.1',\n",
       "   'content-length': '94',\n",
       "   'date': 'Fri, 16 Dec 2022 19:37:14 GMT'},\n",
       "  'RetryAttempts': 0}}"
      ]
     },
     "execution_count": 15,
     "metadata": {},
     "output_type": "execute_result"
    }
   ],
   "source": [
    "response = sagemaker_client.create_model(ModelName=model_name, \n",
    "                                         Containers=[{\n",
    "                                             'Image': image_uri, \n",
    "                                             'Mode': 'SingleModel', \n",
    "                                             'ModelDataUrl': model_artifacts_location}], \n",
    "                                         ExecutionRoleArn=role)\n",
    "response"
   ]
  },
  {
   "cell_type": "markdown",
   "id": "0fcfddce-2ca6-4af9-be29-774db0d8e2ba",
   "metadata": {},
   "source": [
    "#### Create a SageMaker endpoint configuration"
   ]
  },
  {
   "cell_type": "code",
   "execution_count": 16,
   "id": "10926fe7-2c0a-4c94-83f3-ed0eaecfdb61",
   "metadata": {},
   "outputs": [],
   "source": [
    "endpoint_config_name = f'text-encoder-{current_timestamp}'"
   ]
  },
  {
   "cell_type": "code",
   "execution_count": 17,
   "id": "a5b83410",
   "metadata": {},
   "outputs": [
    {
     "data": {
      "text/plain": [
       "{'EndpointConfigArn': 'arn:aws:sagemaker:us-east-1:119174016168:endpoint-config/text-encoder-2022-12-16-19-35-54',\n",
       " 'ResponseMetadata': {'RequestId': '06df06d7-b64c-49ea-96c5-19437a505c3a',\n",
       "  'HTTPStatusCode': 200,\n",
       "  'HTTPHeaders': {'x-amzn-requestid': '06df06d7-b64c-49ea-96c5-19437a505c3a',\n",
       "   'content-type': 'application/x-amz-json-1.1',\n",
       "   'content-length': '113',\n",
       "   'date': 'Fri, 16 Dec 2022 19:37:20 GMT'},\n",
       "  'RetryAttempts': 0}}"
      ]
     },
     "execution_count": 17,
     "metadata": {},
     "output_type": "execute_result"
    }
   ],
   "source": [
    "response = sagemaker_client.create_endpoint_config(EndpointConfigName=endpoint_config_name, \n",
    "                                                   ProductionVariants=[{\n",
    "                                                       'VariantName': 'v1', \n",
    "                                                       'ModelName': model_name, \n",
    "                                                       'InstanceType': 'ml.c5.xlarge', \n",
    "                                                       'InitialInstanceCount': 2, \n",
    "                                                       'InitialVariantWeight': 1\n",
    "                                                   }])\n",
    "response"
   ]
  },
  {
   "cell_type": "markdown",
   "id": "320665de-24d5-41fe-9a3e-e5eb1130310d",
   "metadata": {},
   "source": [
    "#### Create a SageMaker endpoint"
   ]
  },
  {
   "cell_type": "code",
   "execution_count": 18,
   "id": "4ea000e9-9264-41eb-b84d-d9fac6fdfb38",
   "metadata": {},
   "outputs": [],
   "source": [
    "endpoint_name = f'text-encoder-{current_timestamp}'"
   ]
  },
  {
   "cell_type": "code",
   "execution_count": 19,
   "id": "d98c6deb",
   "metadata": {},
   "outputs": [
    {
     "data": {
      "text/plain": [
       "{'EndpointArn': 'arn:aws:sagemaker:us-east-1:119174016168:endpoint/text-encoder-2022-12-16-19-35-54',\n",
       " 'ResponseMetadata': {'RequestId': 'af328c83-6ade-4504-9fe5-fc288fbcc9ea',\n",
       "  'HTTPStatusCode': 200,\n",
       "  'HTTPHeaders': {'x-amzn-requestid': 'af328c83-6ade-4504-9fe5-fc288fbcc9ea',\n",
       "   'content-type': 'application/x-amz-json-1.1',\n",
       "   'content-length': '100',\n",
       "   'date': 'Fri, 16 Dec 2022 19:37:28 GMT'},\n",
       "  'RetryAttempts': 0}}"
      ]
     },
     "execution_count": 19,
     "metadata": {},
     "output_type": "execute_result"
    }
   ],
   "source": [
    "response = sagemaker_client.create_endpoint(EndpointName=endpoint_name, \n",
    "                                            EndpointConfigName=endpoint_config_name)\n",
    "response"
   ]
  },
  {
   "cell_type": "markdown",
   "id": "00da3d7b-3871-4558-b451-b2a12fcc1f9c",
   "metadata": {},
   "source": [
    "#### Describe endpoint to track creation status"
   ]
  },
  {
   "cell_type": "code",
   "execution_count": 20,
   "id": "aa54a28a-9fde-4a7c-8423-682881066295",
   "metadata": {},
   "outputs": [
    {
     "name": "stdout",
     "output_type": "stream",
     "text": [
      "Creating\n",
      "Creating\n",
      "Creating\n",
      "Creating\n",
      "Creating\n",
      "Creating\n",
      "Creating\n",
      "InService\n"
     ]
    }
   ],
   "source": [
    "response = sagemaker_client.describe_endpoint(EndpointName=endpoint_name)\n",
    "endpoint_status = response['EndpointStatus']\n",
    "\n",
    "while endpoint_status == 'Creating':\n",
    "    time.sleep(15)\n",
    "    response = sagemaker_client.describe_endpoint(EndpointName=endpoint_name)\n",
    "    endpoint_status = response['EndpointStatus'] \n",
    "    print(endpoint_status)"
   ]
  },
  {
   "cell_type": "markdown",
   "id": "07b53b99-5142-408a-b819-665bd1683279",
   "metadata": {},
   "source": [
    "#### Invoke endpoint to test deployed feature encoder"
   ]
  },
  {
   "cell_type": "code",
   "execution_count": 21,
   "id": "434b31dd",
   "metadata": {},
   "outputs": [],
   "source": [
    "sagemaker_runtime = boto3.client('sagemaker-runtime', \n",
    "                                 region_name=region)"
   ]
  },
  {
   "cell_type": "code",
   "execution_count": 22,
   "id": "9b40813b-dab0-4630-a206-ed7ad67e5bef",
   "metadata": {},
   "outputs": [],
   "source": [
    "raw_payload = b\"I purchased this headphones on Black Friday sale. Poor quality. Not worth the money.\""
   ]
  },
  {
   "cell_type": "code",
   "execution_count": 23,
   "id": "c522b2e3",
   "metadata": {},
   "outputs": [
    {
     "ename": "ModelError",
     "evalue": "An error occurred (ModelError) when calling the InvokeEndpoint operation: Received server error (500) from primary with message \"<!doctype html>\n<html lang=en>\n<title>500 Internal Server Error</title>\n<h1>Internal Server Error</h1>\n<p>The server encountered an internal error and was unable to complete your request. Either the server is overloaded or there is an error in the application.</p>\n\". See https://us-east-1.console.aws.amazon.com/cloudwatch/home?region=us-east-1#logEventViewer:group=/aws/sagemaker/Endpoints/text-encoder-2022-12-16-19-35-54 in account 119174016168 for more information.",
     "output_type": "error",
     "traceback": [
      "\u001b[0;31m---------------------------------------------------------------------------\u001b[0m",
      "\u001b[0;31mModelError\u001b[0m                                Traceback (most recent call last)",
      "\u001b[0;32m<timed exec>\u001b[0m in \u001b[0;36m<module>\u001b[0;34m\u001b[0m\n",
      "\u001b[0;32m~/anaconda3/envs/python3/lib/python3.8/site-packages/botocore/client.py\u001b[0m in \u001b[0;36m_api_call\u001b[0;34m(self, *args, **kwargs)\u001b[0m\n\u001b[1;32m    506\u001b[0m                 )\n\u001b[1;32m    507\u001b[0m             \u001b[0;31m# The \"self\" in this scope is referring to the BaseClient.\u001b[0m\u001b[0;34m\u001b[0m\u001b[0;34m\u001b[0m\u001b[0;34m\u001b[0m\u001b[0m\n\u001b[0;32m--> 508\u001b[0;31m             \u001b[0;32mreturn\u001b[0m \u001b[0mself\u001b[0m\u001b[0;34m.\u001b[0m\u001b[0m_make_api_call\u001b[0m\u001b[0;34m(\u001b[0m\u001b[0moperation_name\u001b[0m\u001b[0;34m,\u001b[0m \u001b[0mkwargs\u001b[0m\u001b[0;34m)\u001b[0m\u001b[0;34m\u001b[0m\u001b[0;34m\u001b[0m\u001b[0m\n\u001b[0m\u001b[1;32m    509\u001b[0m \u001b[0;34m\u001b[0m\u001b[0m\n\u001b[1;32m    510\u001b[0m         \u001b[0m_api_call\u001b[0m\u001b[0;34m.\u001b[0m\u001b[0m__name__\u001b[0m \u001b[0;34m=\u001b[0m \u001b[0mstr\u001b[0m\u001b[0;34m(\u001b[0m\u001b[0mpy_operation_name\u001b[0m\u001b[0;34m)\u001b[0m\u001b[0;34m\u001b[0m\u001b[0;34m\u001b[0m\u001b[0m\n",
      "\u001b[0;32m~/anaconda3/envs/python3/lib/python3.8/site-packages/botocore/client.py\u001b[0m in \u001b[0;36m_make_api_call\u001b[0;34m(self, operation_name, api_params)\u001b[0m\n\u001b[1;32m    909\u001b[0m             \u001b[0merror_code\u001b[0m \u001b[0;34m=\u001b[0m \u001b[0mparsed_response\u001b[0m\u001b[0;34m.\u001b[0m\u001b[0mget\u001b[0m\u001b[0;34m(\u001b[0m\u001b[0;34m\"Error\"\u001b[0m\u001b[0;34m,\u001b[0m \u001b[0;34m{\u001b[0m\u001b[0;34m}\u001b[0m\u001b[0;34m)\u001b[0m\u001b[0;34m.\u001b[0m\u001b[0mget\u001b[0m\u001b[0;34m(\u001b[0m\u001b[0;34m\"Code\"\u001b[0m\u001b[0;34m)\u001b[0m\u001b[0;34m\u001b[0m\u001b[0;34m\u001b[0m\u001b[0m\n\u001b[1;32m    910\u001b[0m             \u001b[0merror_class\u001b[0m \u001b[0;34m=\u001b[0m \u001b[0mself\u001b[0m\u001b[0;34m.\u001b[0m\u001b[0mexceptions\u001b[0m\u001b[0;34m.\u001b[0m\u001b[0mfrom_code\u001b[0m\u001b[0;34m(\u001b[0m\u001b[0merror_code\u001b[0m\u001b[0;34m)\u001b[0m\u001b[0;34m\u001b[0m\u001b[0;34m\u001b[0m\u001b[0m\n\u001b[0;32m--> 911\u001b[0;31m             \u001b[0;32mraise\u001b[0m \u001b[0merror_class\u001b[0m\u001b[0;34m(\u001b[0m\u001b[0mparsed_response\u001b[0m\u001b[0;34m,\u001b[0m \u001b[0moperation_name\u001b[0m\u001b[0;34m)\u001b[0m\u001b[0;34m\u001b[0m\u001b[0;34m\u001b[0m\u001b[0m\n\u001b[0m\u001b[1;32m    912\u001b[0m         \u001b[0;32melse\u001b[0m\u001b[0;34m:\u001b[0m\u001b[0;34m\u001b[0m\u001b[0;34m\u001b[0m\u001b[0m\n\u001b[1;32m    913\u001b[0m             \u001b[0;32mreturn\u001b[0m \u001b[0mparsed_response\u001b[0m\u001b[0;34m\u001b[0m\u001b[0;34m\u001b[0m\u001b[0m\n",
      "\u001b[0;31mModelError\u001b[0m: An error occurred (ModelError) when calling the InvokeEndpoint operation: Received server error (500) from primary with message \"<!doctype html>\n<html lang=en>\n<title>500 Internal Server Error</title>\n<h1>Internal Server Error</h1>\n<p>The server encountered an internal error and was unable to complete your request. Either the server is overloaded or there is an error in the application.</p>\n\". See https://us-east-1.console.aws.amazon.com/cloudwatch/home?region=us-east-1#logEventViewer:group=/aws/sagemaker/Endpoints/text-encoder-2022-12-16-19-35-54 in account 119174016168 for more information."
     ]
    }
   ],
   "source": [
    "%%time\n",
    "\n",
    "response = sagemaker_runtime.invoke_endpoint(EndpointName=endpoint_name, \n",
    "                                             Body=raw_payload, \n",
    "                                             ContentType='text/csv')\n",
    "response"
   ]
  },
  {
   "cell_type": "markdown",
   "id": "ac0811f9-d8f5-42bc-b8a1-51ab6a561a83",
   "metadata": {},
   "source": [
    "##### Extract feature vector from the response"
   ]
  },
  {
   "cell_type": "code",
   "execution_count": 24,
   "id": "07774b32",
   "metadata": {},
   "outputs": [
    {
     "ename": "KeyError",
     "evalue": "'Body'",
     "output_type": "error",
     "traceback": [
      "\u001b[0;31m---------------------------------------------------------------------------\u001b[0m",
      "\u001b[0;31mKeyError\u001b[0m                                  Traceback (most recent call last)",
      "\u001b[0;32m/tmp/ipykernel_15318/2307166627.py\u001b[0m in \u001b[0;36m<cell line: 1>\u001b[0;34m()\u001b[0m\n\u001b[0;32m----> 1\u001b[0;31m \u001b[0mfeature_vector\u001b[0m \u001b[0;34m=\u001b[0m \u001b[0mresponse\u001b[0m\u001b[0;34m[\u001b[0m\u001b[0;34m'Body'\u001b[0m\u001b[0;34m]\u001b[0m\u001b[0;34m.\u001b[0m\u001b[0mread\u001b[0m\u001b[0;34m(\u001b[0m\u001b[0;34m)\u001b[0m\u001b[0;34m.\u001b[0m\u001b[0mdecode\u001b[0m\u001b[0;34m(\u001b[0m\u001b[0;34m'utf-8'\u001b[0m\u001b[0;34m)\u001b[0m\u001b[0;34m.\u001b[0m\u001b[0mstrip\u001b[0m\u001b[0;34m(\u001b[0m\u001b[0;34m)\u001b[0m\u001b[0;34m\u001b[0m\u001b[0;34m\u001b[0m\u001b[0m\n\u001b[0m\u001b[1;32m      2\u001b[0m \u001b[0mfeature_vector\u001b[0m\u001b[0;34m\u001b[0m\u001b[0;34m\u001b[0m\u001b[0m\n",
      "\u001b[0;31mKeyError\u001b[0m: 'Body'"
     ]
    }
   ],
   "source": [
    "feature_vector = response['Body'].read().decode('utf-8').strip()\n",
    "feature_vector"
   ]
  },
  {
   "cell_type": "code",
   "execution_count": null,
   "id": "0d7495f1",
   "metadata": {},
   "outputs": [],
   "source": []
  }
 ],
 "metadata": {
  "instance_type": "ml.t3.medium",
  "kernelspec": {
   "display_name": "conda_python3",
   "language": "python",
   "name": "conda_python3"
  },
  "language_info": {
   "codemirror_mode": {
    "name": "ipython",
    "version": 3
   },
   "file_extension": ".py",
   "mimetype": "text/x-python",
   "name": "python",
   "nbconvert_exporter": "python",
   "pygments_lexer": "ipython3",
   "version": "3.8.12"
  }
 },
 "nbformat": 4,
 "nbformat_minor": 5
}
